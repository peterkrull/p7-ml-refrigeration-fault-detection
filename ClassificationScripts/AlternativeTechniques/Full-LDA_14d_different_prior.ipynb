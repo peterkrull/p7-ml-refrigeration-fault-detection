{
 "cells": [
  {
   "cell_type": "markdown",
   "metadata": {},
   "source": [
    "----\n",
    "# Full-LDA 14d classification using sklearn library different prior\n",
    "\n",
    "----"
   ]
  },
  {
   "cell_type": "code",
   "execution_count": 31,
   "metadata": {},
   "outputs": [
    {
     "name": "stdout",
     "output_type": "stream",
     "text": [
      "The autoreload extension is already loaded. To reload it, use:\n",
      "  %reload_ext autoreload\n"
     ]
    }
   ],
   "source": [
    "%load_ext autoreload\n",
    "%autoreload 2\n",
    "\n",
    "from sklearn.metrics import confusion_matrix as skconfmatrix\n",
    "import matplotlib.pyplot as plt\n",
    "import pandas as pd\n",
    "import numpy as np\n",
    "import os\n",
    "\n",
    "# Set correct working directory\n",
    "if os.getcwd() != os.path.abspath(\"../Python\"):\n",
    "    os.chdir(\"../../Python\")\n",
    "\n",
    "# Import files from /Python directory\n",
    "from confusion_matrix import confusion_matrix\n",
    "\n",
    "plt.rcParams.update({\n",
    "    \"text.usetex\": True,\n",
    "    \"font.family\": \"cmr\"\n",
    "})\n"
   ]
  },
  {
   "cell_type": "code",
   "execution_count": 32,
   "metadata": {},
   "outputs": [],
   "source": [
    "# Use noisy data sets\n",
    "noise = False\n",
    "\n",
    "# Load data sets\n",
    "trn_data = pd.read_csv(f\"../TrainingData/neodata/soltani_14d_{'' if noise else 'no'}noise_1200.csv\")\n",
    "vld_data = pd.read_csv(f\"../ValidationData/neodata/soltani_14d_{'' if noise else 'no'}noise_1200.csv\")\n",
    "tst_data = pd.read_csv(f\"../TestData/neodata/soltani_14d_{'' if noise else 'no'}noise_100.csv\")\n",
    "\n",
    "# Separate into data and targets\n",
    "y_trn = trn_data.pop('target')\n",
    "X_trn = trn_data\n",
    "\n",
    "y_vld = vld_data.pop('target')\n",
    "X_vld = vld_data\n",
    "\n",
    "y_tst = tst_data.pop('target')\n",
    "X_tst = tst_data\n",
    "\n"
   ]
  },
  {
   "cell_type": "code",
   "execution_count": 33,
   "metadata": {},
   "outputs": [
    {
     "data": {
      "text/html": [
       "<div>\n",
       "<style scoped>\n",
       "    .dataframe tbody tr th:only-of-type {\n",
       "        vertical-align: middle;\n",
       "    }\n",
       "\n",
       "    .dataframe tbody tr th {\n",
       "        vertical-align: top;\n",
       "    }\n",
       "\n",
       "    .dataframe thead th {\n",
       "        text-align: right;\n",
       "    }\n",
       "</style>\n",
       "<table border=\"1\" class=\"dataframe\">\n",
       "  <thead>\n",
       "    <tr style=\"text-align: right;\">\n",
       "      <th></th>\n",
       "      <th>T0</th>\n",
       "      <th>Tc</th>\n",
       "      <th>Tdis</th>\n",
       "      <th>Tret</th>\n",
       "      <th>Tsuc</th>\n",
       "      <th>Tsup</th>\n",
       "      <th>CondFan</th>\n",
       "      <th>Tset</th>\n",
       "    </tr>\n",
       "  </thead>\n",
       "  <tbody>\n",
       "    <tr>\n",
       "      <th>0</th>\n",
       "      <td>-7.327275</td>\n",
       "      <td>35.250968</td>\n",
       "      <td>62.398172</td>\n",
       "      <td>9.213731</td>\n",
       "      <td>5.218196</td>\n",
       "      <td>-0.007051</td>\n",
       "      <td>91.677418</td>\n",
       "      <td>0</td>\n",
       "    </tr>\n",
       "    <tr>\n",
       "      <th>1</th>\n",
       "      <td>8.350783</td>\n",
       "      <td>32.555930</td>\n",
       "      <td>36.902906</td>\n",
       "      <td>19.335149</td>\n",
       "      <td>14.454287</td>\n",
       "      <td>12.023629</td>\n",
       "      <td>61.732558</td>\n",
       "      <td>12</td>\n",
       "    </tr>\n",
       "    <tr>\n",
       "      <th>2</th>\n",
       "      <td>4.392486</td>\n",
       "      <td>31.320564</td>\n",
       "      <td>38.446461</td>\n",
       "      <td>12.682279</td>\n",
       "      <td>9.347677</td>\n",
       "      <td>7.049683</td>\n",
       "      <td>48.006264</td>\n",
       "      <td>7</td>\n",
       "    </tr>\n",
       "    <tr>\n",
       "      <th>3</th>\n",
       "      <td>7.719790</td>\n",
       "      <td>33.308655</td>\n",
       "      <td>39.283819</td>\n",
       "      <td>20.119498</td>\n",
       "      <td>14.619819</td>\n",
       "      <td>12.022797</td>\n",
       "      <td>70.096165</td>\n",
       "      <td>12</td>\n",
       "    </tr>\n",
       "    <tr>\n",
       "      <th>4</th>\n",
       "      <td>-1.469814</td>\n",
       "      <td>37.019220</td>\n",
       "      <td>58.629453</td>\n",
       "      <td>17.894334</td>\n",
       "      <td>11.548947</td>\n",
       "      <td>7.004961</td>\n",
       "      <td>100.000000</td>\n",
       "      <td>7</td>\n",
       "    </tr>\n",
       "    <tr>\n",
       "      <th>...</th>\n",
       "      <td>...</td>\n",
       "      <td>...</td>\n",
       "      <td>...</td>\n",
       "      <td>...</td>\n",
       "      <td>...</td>\n",
       "      <td>...</td>\n",
       "      <td>...</td>\n",
       "      <td>...</td>\n",
       "    </tr>\n",
       "    <tr>\n",
       "      <th>25195</th>\n",
       "      <td>7.856815</td>\n",
       "      <td>39.778347</td>\n",
       "      <td>47.529844</td>\n",
       "      <td>19.876503</td>\n",
       "      <td>14.828438</td>\n",
       "      <td>11.999965</td>\n",
       "      <td>20.000000</td>\n",
       "      <td>12</td>\n",
       "    </tr>\n",
       "    <tr>\n",
       "      <th>25196</th>\n",
       "      <td>4.275137</td>\n",
       "      <td>35.262560</td>\n",
       "      <td>43.769530</td>\n",
       "      <td>12.705745</td>\n",
       "      <td>9.757985</td>\n",
       "      <td>7.001411</td>\n",
       "      <td>18.361243</td>\n",
       "      <td>7</td>\n",
       "    </tr>\n",
       "    <tr>\n",
       "      <th>25197</th>\n",
       "      <td>-1.892760</td>\n",
       "      <td>50.880948</td>\n",
       "      <td>78.212833</td>\n",
       "      <td>17.463716</td>\n",
       "      <td>12.245503</td>\n",
       "      <td>6.993503</td>\n",
       "      <td>20.000000</td>\n",
       "      <td>7</td>\n",
       "    </tr>\n",
       "    <tr>\n",
       "      <th>25198</th>\n",
       "      <td>-3.062182</td>\n",
       "      <td>35.815355</td>\n",
       "      <td>53.906534</td>\n",
       "      <td>5.812675</td>\n",
       "      <td>3.552730</td>\n",
       "      <td>-0.000118</td>\n",
       "      <td>19.589677</td>\n",
       "      <td>0</td>\n",
       "    </tr>\n",
       "    <tr>\n",
       "      <th>25199</th>\n",
       "      <td>2.131485</td>\n",
       "      <td>48.110462</td>\n",
       "      <td>71.000162</td>\n",
       "      <td>24.396840</td>\n",
       "      <td>16.551617</td>\n",
       "      <td>11.996574</td>\n",
       "      <td>30.000000</td>\n",
       "      <td>12</td>\n",
       "    </tr>\n",
       "  </tbody>\n",
       "</table>\n",
       "<p>25200 rows × 8 columns</p>\n",
       "</div>"
      ],
      "text/plain": [
       "             T0         Tc       Tdis       Tret       Tsuc       Tsup  \\\n",
       "0     -7.327275  35.250968  62.398172   9.213731   5.218196  -0.007051   \n",
       "1      8.350783  32.555930  36.902906  19.335149  14.454287  12.023629   \n",
       "2      4.392486  31.320564  38.446461  12.682279   9.347677   7.049683   \n",
       "3      7.719790  33.308655  39.283819  20.119498  14.619819  12.022797   \n",
       "4     -1.469814  37.019220  58.629453  17.894334  11.548947   7.004961   \n",
       "...         ...        ...        ...        ...        ...        ...   \n",
       "25195  7.856815  39.778347  47.529844  19.876503  14.828438  11.999965   \n",
       "25196  4.275137  35.262560  43.769530  12.705745   9.757985   7.001411   \n",
       "25197 -1.892760  50.880948  78.212833  17.463716  12.245503   6.993503   \n",
       "25198 -3.062182  35.815355  53.906534   5.812675   3.552730  -0.000118   \n",
       "25199  2.131485  48.110462  71.000162  24.396840  16.551617  11.996574   \n",
       "\n",
       "          CondFan  Tset  \n",
       "0       91.677418     0  \n",
       "1       61.732558    12  \n",
       "2       48.006264     7  \n",
       "3       70.096165    12  \n",
       "4      100.000000     7  \n",
       "...           ...   ...  \n",
       "25195   20.000000    12  \n",
       "25196   18.361243     7  \n",
       "25197   20.000000     7  \n",
       "25198   19.589677     0  \n",
       "25199   30.000000    12  \n",
       "\n",
       "[25200 rows x 8 columns]"
      ]
     },
     "execution_count": 33,
     "metadata": {},
     "output_type": "execute_result"
    }
   ],
   "source": [
    "#reduce to 8 \"relevant\" features\n",
    "\n",
    "features = ['T0', 'Tc', 'Tdis', 'Tret', 'Tsuc', 'Tsup', 'CondFan', 'Tset']\n",
    "\n",
    "X_trn = X_trn[features]\n",
    "X_vld = X_vld[features]\n",
    "X_tst = X_tst[features]\n",
    "\n",
    "X_trn"
   ]
  },
  {
   "cell_type": "markdown",
   "metadata": {},
   "source": [
    "## Standardize data"
   ]
  },
  {
   "cell_type": "code",
   "execution_count": 34,
   "metadata": {},
   "outputs": [],
   "source": [
    "# Use standard scaler for scaling\n",
    "from sklearn.preprocessing import StandardScaler\n",
    "standardizer = StandardScaler()\n",
    "\n",
    "# # Use PCA sphering/whitening for scaling\n",
    "# from sklearn.decomposition import PCA\n",
    "# standardizer = PCA(whiten=True)\n",
    "\n",
    "X_trn = standardizer.fit_transform(X_trn)\n",
    "X_vld = standardizer.transform(X_vld)\n",
    "X_tst = standardizer.transform(X_tst)"
   ]
  },
  {
   "cell_type": "markdown",
   "metadata": {},
   "source": [
    "## LDA dimensionality reduction"
   ]
  },
  {
   "cell_type": "code",
   "execution_count": 35,
   "metadata": {},
   "outputs": [
    {
     "data": {
      "text/plain": [
       "'\\n\\nreducer = lda.reducer(X_trn,y_trn,5)\\n\\nX_vld = reducer.transform(X_vld)\\nX_tst = reducer.transform(X_tst)\\nX_trn = reducer.transform(X_trn)\\n'"
      ]
     },
     "execution_count": 35,
     "metadata": {},
     "output_type": "execute_result"
    }
   ],
   "source": [
    "import lda\n",
    "\"\"\"\n",
    "\n",
    "reducer = lda.reducer(X_trn,y_trn,5)\n",
    "\n",
    "X_vld = reducer.transform(X_vld)\n",
    "X_tst = reducer.transform(X_tst)\n",
    "X_trn = reducer.transform(X_trn)\n",
    "\"\"\"\n",
    "\n"
   ]
  },
  {
   "cell_type": "markdown",
   "metadata": {},
   "source": [
    "---\n",
    "\n",
    "# LDA fitting"
   ]
  },
  {
   "cell_type": "code",
   "execution_count": 36,
   "metadata": {},
   "outputs": [
    {
     "name": "stderr",
     "output_type": "stream",
     "text": [
      "c:\\Users\\klepa\\AppData\\Local\\Programs\\Python\\Python39\\lib\\site-packages\\sklearn\\discriminant_analysis.py:524: RuntimeWarning: divide by zero encountered in log\n",
      "  self.intercept_ = -0.5 * np.sum(coef**2, axis=1) + np.log(self.priors_)\n",
      "c:\\Users\\klepa\\AppData\\Local\\Programs\\Python\\Python39\\lib\\site-packages\\sklearn\\discriminant_analysis.py:517: RuntimeWarning: invalid value encountered in true_divide\n",
      "  self.explained_variance_ratio_ = (S**2 / np.sum(S**2))[\n",
      "c:\\Users\\klepa\\AppData\\Local\\Programs\\Python\\Python39\\lib\\site-packages\\sklearn\\discriminant_analysis.py:524: RuntimeWarning: divide by zero encountered in log\n",
      "  self.intercept_ = -0.5 * np.sum(coef**2, axis=1) + np.log(self.priors_)\n"
     ]
    }
   ],
   "source": [
    "from sklearn.discriminant_analysis import LinearDiscriminantAnalysis\n",
    "from sklearn.metrics import accuracy_score\n",
    "\n",
    "import csv\n",
    "\n",
    "from sklearn.metrics import confusion_matrix as cf\n",
    "\n",
    "#Making a header to be written to a file\n",
    "header=['prior for non faulty data', 'accuracy','false positive']\n",
    "\n",
    "#Opening the file to be written to\n",
    "f = open('acc_prior_change.csv', 'w', encoding='UTF8', newline='' )\n",
    "writer = csv.writer(f)\n",
    "# write the header\n",
    "writer.writerow(header)\n",
    "\n",
    "\n",
    "   \n",
    "#Making a for loop to use different priors. \n",
    "for x in np.arange(0, 1.001, 0.001):\n",
    "\n",
    "    #definer priors\n",
    "    non_fault_prior=x\n",
    "    fault_prior=(1-non_fault_prior)/20\n",
    "    prior=np.array([non_fault_prior, fault_prior,fault_prior,fault_prior,fault_prior,fault_prior,fault_prior,fault_prior,fault_prior,fault_prior,fault_prior,fault_prior,fault_prior,fault_prior,fault_prior,fault_prior,fault_prior,fault_prior,fault_prior,fault_prior,fault_prior,])\n",
    "\n",
    "    #Training LDA classifier with priors \n",
    "    clf = LinearDiscriminantAnalysis(priors=prior)\n",
    "    clf.fit(X_trn, y_trn)\n",
    "\n",
    "    #Predication and calucting accuracy score\n",
    "    pred=clf.predict(X_trn)\n",
    "    \n",
    "    \n",
    "    #Calcultating false positive score\n",
    "    cond = cf(y_trn,pred)\n",
    "    \n",
    "    false = 1-cond[0,0]/1200 \n",
    "    #Cacultating accuarcy \n",
    "    ac=accuracy_score(y_trn, pred)\n",
    "    #Writing to a file\n",
    "    res=[x,ac,false]\n",
    "    writer.writerow(res)\n",
    "     \n",
    "\n",
    "\n",
    "f.close()\n",
    "\n"
   ]
  },
  {
   "cell_type": "markdown",
   "metadata": {},
   "source": [
    "# Classifying test data"
   ]
  },
  {
   "cell_type": "code",
   "execution_count": 37,
   "metadata": {},
   "outputs": [
    {
     "data": {
      "text/plain": [
       "(<Figure size 720x720 with 1 Axes>,\n",
       " <AxesSubplot:title={'center':'Full-LDA 8d different priori on test set : Accuracy 85.714%'}, xlabel='Predicted class', ylabel='True class'>)"
      ]
     },
     "execution_count": 37,
     "metadata": {},
     "output_type": "execute_result"
    },
    {
     "data": {
      "image/png": "[encoded data removed]",
      "text/plain": [
       "<Figure size 720x720 with 1 Axes>"
      ]
     },
     "metadata": {
      "needs_background": "light"
     },
     "output_type": "display_data"
    }
   ],
   "source": [
    "#Using a found good prior and testning the outcome on the test data. \n",
    "\n",
    "#Chosing prior and training the 5LDA classifier\n",
    "non_fault_prior=0.05\n",
    "fault_prior=(1-non_fault_prior)/20\n",
    "prior=np.array([non_fault_prior, fault_prior,fault_prior,fault_prior,fault_prior,fault_prior,fault_prior,fault_prior,fault_prior,fault_prior,fault_prior,fault_prior,fault_prior,fault_prior,fault_prior,fault_prior,fault_prior,fault_prior,fault_prior,fault_prior,fault_prior,])\n",
    "\n",
    "clf = LinearDiscriminantAnalysis(priors=prior)\n",
    "clf.fit(X_trn, y_trn)\n",
    "\n",
    "\n",
    "# Make predictions for the training set\n",
    "y_hat_tst = clf.predict(X_tst)\n",
    "\n",
    "#plot the confusion matrix\n",
    "conf_matrix_tst = skconfmatrix(y_tst,y_hat_tst)\n",
    "confusion_matrix(conf_matrix_tst, figsize = (10,10),title='Full-LDA 8d different priori on test set', save_fig_name='Full-LDA 8d different prior test confusion matrix.pdf',eval_labels = False)"
   ]
  }
 ],
 "metadata": {
  "kernelspec": {
   "display_name": "Python 3.9.7 64-bit",
   "language": "python",
   "name": "python3"
  },
  "language_info": {
   "codemirror_mode": {
    "name": "ipython",
    "version": 3
   },
   "file_extension": ".py",
   "mimetype": "text/x-python",
   "name": "python",
   "nbconvert_exporter": "python",
   "pygments_lexer": "ipython3",
   "version": "3.9.7"
  },
  "orig_nbformat": 4,
  "vscode": {
   "interpreter": {
    "hash": "f15fea1a2a4c1b2bd3448f51c7a571354ea9fdd72ce8dc19376e1dc8b22066ba"
   }
  }
 },
 "nbformat": 4,
 "nbformat_minor": 2
}

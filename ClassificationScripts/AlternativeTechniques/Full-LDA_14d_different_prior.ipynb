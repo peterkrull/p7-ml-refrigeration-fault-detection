{
 "cells": [
  {
   "cell_type": "markdown",
   "metadata": {},
   "source": [
    "----\n",
    "# Full-LDA 14d classification using sklearn library different prior\n",
    "\n",
    "----"
   ]
  },
  {
   "cell_type": "code",
   "execution_count": 7,
   "metadata": {},
   "outputs": [
    {
     "name": "stdout",
     "output_type": "stream",
     "text": [
      "The autoreload extension is already loaded. To reload it, use:\n",
      "  %reload_ext autoreload\n"
     ]
    }
   ],
   "source": [
    "%load_ext autoreload\n",
    "%autoreload 2\n",
    "\n",
    "from sklearn.metrics import confusion_matrix as skconfmatrix\n",
    "import matplotlib.pyplot as plt\n",
    "import pandas as pd\n",
    "import numpy as np\n",
    "import os\n",
    "\n",
    "# Set correct working directory\n",
    "if os.getcwd() != os.path.abspath(\"../Python\"):\n",
    "    os.chdir(\"../../Python\")\n",
    "\n",
    "# Import files from /Python directory\n",
    "from confusion_matrix import confusion_matrix\n",
    "\n",
    "plt.rcParams.update({\n",
    "    \"text.usetex\": True,\n",
    "    \"font.family\": \"cmr\"\n",
    "})"
   ]
  },
  {
   "cell_type": "code",
   "execution_count": 8,
   "metadata": {},
   "outputs": [],
   "source": [
    "# Use noisy data sets\n",
    "noise = False\n",
    "\n",
    "# Load data sets\n",
    "trn_data = pd.read_csv(f\"../TrainingData/neodata/soltani_14d_{'' if noise else 'no'}noise_1200.csv\")\n",
    "vld_data = pd.read_csv(f\"../ValidationData/neodata/soltani_14d_{'' if noise else 'no'}noise_1200.csv\")\n",
    "tst_data = pd.read_csv(f\"../TestData/neodata/soltani_14d_{'' if noise else 'no'}noise_100.csv\")\n",
    "\n",
    "# Separate into data and targets\n",
    "y_trn = trn_data.pop('target')\n",
    "X_trn = trn_data\n",
    "\n",
    "y_vld = vld_data.pop('target')\n",
    "X_vld = vld_data\n",
    "\n",
    "y_tst = tst_data.pop('target')\n",
    "X_tst = tst_data"
   ]
  },
  {
   "cell_type": "markdown",
   "metadata": {},
   "source": [
    "## Standardize data"
   ]
  },
  {
   "cell_type": "code",
   "execution_count": 9,
   "metadata": {},
   "outputs": [],
   "source": [
    "# Use standard scaler for scaling\n",
    "from sklearn.preprocessing import StandardScaler\n",
    "standardizer = StandardScaler()\n",
    "\n",
    "# # Use PCA sphering/whitening for scaling\n",
    "# from sklearn.decomposition import PCA\n",
    "# standardizer = PCA(whiten=True)\n",
    "\n",
    "X_trn = standardizer.fit_transform(X_trn)\n",
    "X_vld = standardizer.transform(X_vld)\n",
    "X_tst = standardizer.transform(X_tst)"
   ]
  },
  {
   "cell_type": "markdown",
   "metadata": {},
   "source": [
    "## LDA dimensionality reduction"
   ]
  },
  {
   "cell_type": "code",
   "execution_count": 10,
   "metadata": {},
   "outputs": [
    {
     "data": {
      "text/plain": [
       "'\\n\\nreducer = lda.reducer(X_trn,y_trn,5)\\n\\nX_vld = reducer.transform(X_vld)\\nX_tst = reducer.transform(X_tst)\\nX_trn = reducer.transform(X_trn)\\n'"
      ]
     },
     "execution_count": 10,
     "metadata": {},
     "output_type": "execute_result"
    }
   ],
   "source": [
    "import lda\n",
    "\"\"\"\n",
    "\n",
    "reducer = lda.reducer(X_trn,y_trn,5)\n",
    "\n",
    "X_vld = reducer.transform(X_vld)\n",
    "X_tst = reducer.transform(X_tst)\n",
    "X_trn = reducer.transform(X_trn)\n",
    "\"\"\""
   ]
  },
  {
   "cell_type": "markdown",
   "metadata": {},
   "source": [
    "---\n",
    "\n",
    "# LDA fitting"
   ]
  },
  {
   "cell_type": "code",
   "execution_count": 11,
   "metadata": {},
   "outputs": [
    {
     "name": "stderr",
     "output_type": "stream",
     "text": [
      "/home/peterkrull/.local/lib/python3.10/site-packages/sklearn/discriminant_analysis.py:524: RuntimeWarning: divide by zero encountered in log\n",
      "  self.intercept_ = -0.5 * np.sum(coef**2, axis=1) + np.log(self.priors_)\n"
     ]
    },
    {
     "ename": "KeyboardInterrupt",
     "evalue": "",
     "output_type": "error",
     "traceback": [
      "\u001b[0;31m---------------------------------------------------------------------------\u001b[0m",
      "\u001b[0;31mKeyboardInterrupt\u001b[0m                         Traceback (most recent call last)",
      "\u001b[1;32m/home/peterkrull/p7-ml-refrigeration-fault-detection/ClassificationScripts/AlternativeTechniques/Full-LDA_14d_different_prior.ipynb Cell 9\u001b[0m in \u001b[0;36m<cell line: 20>\u001b[0;34m()\u001b[0m\n\u001b[1;32m     <a href='vscode-notebook-cell:/home/peterkrull/p7-ml-refrigeration-fault-detection/ClassificationScripts/AlternativeTechniques/Full-LDA_14d_different_prior.ipynb#X11sZmlsZQ%3D%3D?line=26'>27</a>\u001b[0m \u001b[39m#Training LDA classifier with priors \u001b[39;00m\n\u001b[1;32m     <a href='vscode-notebook-cell:/home/peterkrull/p7-ml-refrigeration-fault-detection/ClassificationScripts/AlternativeTechniques/Full-LDA_14d_different_prior.ipynb#X11sZmlsZQ%3D%3D?line=27'>28</a>\u001b[0m clf \u001b[39m=\u001b[39m LinearDiscriminantAnalysis(priors\u001b[39m=\u001b[39mprior)\n\u001b[0;32m---> <a href='vscode-notebook-cell:/home/peterkrull/p7-ml-refrigeration-fault-detection/ClassificationScripts/AlternativeTechniques/Full-LDA_14d_different_prior.ipynb#X11sZmlsZQ%3D%3D?line=28'>29</a>\u001b[0m clf\u001b[39m.\u001b[39;49mfit(X_trn, y_trn)\n\u001b[1;32m     <a href='vscode-notebook-cell:/home/peterkrull/p7-ml-refrigeration-fault-detection/ClassificationScripts/AlternativeTechniques/Full-LDA_14d_different_prior.ipynb#X11sZmlsZQ%3D%3D?line=30'>31</a>\u001b[0m \u001b[39m#Predication and calucting accuracy score\u001b[39;00m\n\u001b[1;32m     <a href='vscode-notebook-cell:/home/peterkrull/p7-ml-refrigeration-fault-detection/ClassificationScripts/AlternativeTechniques/Full-LDA_14d_different_prior.ipynb#X11sZmlsZQ%3D%3D?line=31'>32</a>\u001b[0m pred\u001b[39m=\u001b[39mclf\u001b[39m.\u001b[39mpredict(X_trn)\n",
      "File \u001b[0;32m~/.local/lib/python3.10/site-packages/sklearn/discriminant_analysis.py:596\u001b[0m, in \u001b[0;36mLinearDiscriminantAnalysis.fit\u001b[0;34m(self, X, y)\u001b[0m\n\u001b[1;32m    590\u001b[0m     \u001b[39mif\u001b[39;00m \u001b[39mself\u001b[39m\u001b[39m.\u001b[39mcovariance_estimator \u001b[39mis\u001b[39;00m \u001b[39mnot\u001b[39;00m \u001b[39mNone\u001b[39;00m:\n\u001b[1;32m    591\u001b[0m         \u001b[39mraise\u001b[39;00m \u001b[39mValueError\u001b[39;00m(\n\u001b[1;32m    592\u001b[0m             \u001b[39m\"\u001b[39m\u001b[39mcovariance estimator \u001b[39m\u001b[39m\"\u001b[39m\n\u001b[1;32m    593\u001b[0m             \u001b[39m\"\u001b[39m\u001b[39mis not supported \u001b[39m\u001b[39m\"\u001b[39m\n\u001b[1;32m    594\u001b[0m             \u001b[39m\"\u001b[39m\u001b[39mwith svd solver. Try another solver\u001b[39m\u001b[39m\"\u001b[39m\n\u001b[1;32m    595\u001b[0m         )\n\u001b[0;32m--> 596\u001b[0m     \u001b[39mself\u001b[39;49m\u001b[39m.\u001b[39;49m_solve_svd(X, y)\n\u001b[1;32m    597\u001b[0m \u001b[39melif\u001b[39;00m \u001b[39mself\u001b[39m\u001b[39m.\u001b[39msolver \u001b[39m==\u001b[39m \u001b[39m\"\u001b[39m\u001b[39mlsqr\u001b[39m\u001b[39m\"\u001b[39m:\n\u001b[1;32m    598\u001b[0m     \u001b[39mself\u001b[39m\u001b[39m.\u001b[39m_solve_lsqr(\n\u001b[1;32m    599\u001b[0m         X,\n\u001b[1;32m    600\u001b[0m         y,\n\u001b[1;32m    601\u001b[0m         shrinkage\u001b[39m=\u001b[39m\u001b[39mself\u001b[39m\u001b[39m.\u001b[39mshrinkage,\n\u001b[1;32m    602\u001b[0m         covariance_estimator\u001b[39m=\u001b[39m\u001b[39mself\u001b[39m\u001b[39m.\u001b[39mcovariance_estimator,\n\u001b[1;32m    603\u001b[0m     )\n",
      "File \u001b[0;32m~/.local/lib/python3.10/site-packages/sklearn/discriminant_analysis.py:471\u001b[0m, in \u001b[0;36mLinearDiscriminantAnalysis._solve_svd\u001b[0;34m(self, X, y)\u001b[0m\n\u001b[1;32m    468\u001b[0m n_samples, n_features \u001b[39m=\u001b[39m X\u001b[39m.\u001b[39mshape\n\u001b[1;32m    469\u001b[0m n_classes \u001b[39m=\u001b[39m \u001b[39mlen\u001b[39m(\u001b[39mself\u001b[39m\u001b[39m.\u001b[39mclasses_)\n\u001b[0;32m--> 471\u001b[0m \u001b[39mself\u001b[39m\u001b[39m.\u001b[39mmeans_ \u001b[39m=\u001b[39m _class_means(X, y)\n\u001b[1;32m    472\u001b[0m \u001b[39mif\u001b[39;00m \u001b[39mself\u001b[39m\u001b[39m.\u001b[39mstore_covariance:\n\u001b[1;32m    473\u001b[0m     \u001b[39mself\u001b[39m\u001b[39m.\u001b[39mcovariance_ \u001b[39m=\u001b[39m _class_cov(X, y, \u001b[39mself\u001b[39m\u001b[39m.\u001b[39mpriors_)\n",
      "File \u001b[0;32m~/.local/lib/python3.10/site-packages/sklearn/discriminant_analysis.py:117\u001b[0m, in \u001b[0;36m_class_means\u001b[0;34m(X, y)\u001b[0m\n\u001b[1;32m    115\u001b[0m cnt \u001b[39m=\u001b[39m np\u001b[39m.\u001b[39mbincount(y)\n\u001b[1;32m    116\u001b[0m means \u001b[39m=\u001b[39m np\u001b[39m.\u001b[39mzeros(shape\u001b[39m=\u001b[39m(\u001b[39mlen\u001b[39m(classes), X\u001b[39m.\u001b[39mshape[\u001b[39m1\u001b[39m]))\n\u001b[0;32m--> 117\u001b[0m np\u001b[39m.\u001b[39;49madd\u001b[39m.\u001b[39;49mat(means, y, X)\n\u001b[1;32m    118\u001b[0m means \u001b[39m/\u001b[39m\u001b[39m=\u001b[39m cnt[:, \u001b[39mNone\u001b[39;00m]\n\u001b[1;32m    119\u001b[0m \u001b[39mreturn\u001b[39;00m means\n",
      "\u001b[0;31mKeyboardInterrupt\u001b[0m: "
     ]
    }
   ],
   "source": [
    "from sklearn.discriminant_analysis import LinearDiscriminantAnalysis\n",
    "from sklearn.metrics import accuracy_score\n",
    "\n",
    "import csv\n",
    "\n",
    "from sklearn.metrics import confusion_matrix as cf\n",
    "\n",
    "#Making a header to be written to a file\n",
    "header=['prior for non faulty data', 'accuracy','false positive']\n",
    "\n",
    "#Opening the file to be written to\n",
    "f = open('acc_prior_change.csv', 'w', encoding='UTF8', newline='' )\n",
    "writer = csv.writer(f)\n",
    "# write the header\n",
    "writer.writerow(header)\n",
    "\n",
    "\n",
    "   \n",
    "#Making a for loop to use different priors. \n",
    "for x in np.arange(0, 1.001, 0.001):\n",
    "\n",
    "    #definer priors\n",
    "    non_fault_prior=x\n",
    "    fault_prior=(1-non_fault_prior)/20\n",
    "    prior=np.array([non_fault_prior, fault_prior,fault_prior,fault_prior,fault_prior,fault_prior,fault_prior,fault_prior,fault_prior,fault_prior,fault_prior,fault_prior,fault_prior,fault_prior,fault_prior,fault_prior,fault_prior,fault_prior,fault_prior,fault_prior,fault_prior,])\n",
    "\n",
    "    #Training LDA classifier with priors \n",
    "    clf = LinearDiscriminantAnalysis(priors=prior)\n",
    "    clf.fit(X_trn, y_trn)\n",
    "\n",
    "    #Predication and calucting accuracy score\n",
    "    pred=clf.predict(X_trn)\n",
    "    \n",
    "    \n",
    "    #Calcultating false positive score\n",
    "    cond = cf(y_trn,pred)\n",
    "    \n",
    "    false = 1-cond[0,0]/1200 \n",
    "    #Cacultating accuarcy \n",
    "    ac=accuracy_score(y_trn, pred)\n",
    "    #Writing to a file\n",
    "    res=[x,ac,false]\n",
    "    writer.writerow(res)\n",
    "     \n",
    "\n",
    "\n",
    "f.close()\n",
    "\n"
   ]
  },
  {
   "cell_type": "markdown",
   "metadata": {},
   "source": [
    "# Classifying test data"
   ]
  },
  {
   "cell_type": "code",
   "execution_count": 12,
   "metadata": {},
   "outputs": [
    {
     "data": {
      "text/plain": [
       "(<Figure size 1000x1000 with 1 Axes>,\n",
       " <AxesSubplot:title={'center':'Full-LDA 14d different priori on test set : Accuracy 80.952%'}, xlabel='Predicted class', ylabel='True class'>)"
      ]
     },
     "execution_count": 12,
     "metadata": {},
     "output_type": "execute_result"
    },
    {
     "data": {
      "image/png": "[encoded data removed]",
      "text/plain": [
       "<Figure size 1000x1000 with 1 Axes>"
      ]
     },
     "metadata": {},
     "output_type": "display_data"
    }
   ],
   "source": [
    "#Using a found good prior and testning the outcome on the test data. \n",
    "\n",
    "#Chosing prior and training the 5LDA classifier\n",
    "non_fault_prior=0.055\n",
    "fault_prior=(1-non_fault_prior)/20\n",
    "prior=np.array([non_fault_prior, fault_prior,fault_prior,fault_prior,fault_prior,fault_prior,fault_prior,fault_prior,fault_prior,fault_prior,fault_prior,fault_prior,fault_prior,fault_prior,fault_prior,fault_prior,fault_prior,fault_prior,fault_prior,fault_prior,fault_prior,])\n",
    "\n",
    "clf = LinearDiscriminantAnalysis(priors=prior)\n",
    "clf.fit(X_trn, y_trn)\n",
    "\n",
    "\n",
    "# Make predictions for the training set\n",
    "y_hat_tst = clf.predict(X_tst)\n",
    "\n",
    "#plot the confusion matrix\n",
    "conf_matrix_tst = skconfmatrix(y_tst,y_hat_tst)\n",
    "confusion_matrix(conf_matrix_tst, figsize = (10,10),title='Full-LDA 14d different priori on test set', save_fig_name='Full-LDA 14d different prior test confusion matrix.pdf',eval_labels = False)"
   ]
  }
 ],
 "metadata": {
  "kernelspec": {
   "display_name": "Python 3.10.8 64-bit",
   "language": "python",
   "name": "python3"
  },
  "language_info": {
   "codemirror_mode": {
    "name": "ipython",
    "version": 3
   },
   "file_extension": ".py",
   "mimetype": "text/x-python",
   "name": "python",
   "nbconvert_exporter": "python",
   "pygments_lexer": "ipython3",
   "version": "3.10.8"
  },
  "orig_nbformat": 4,
  "vscode": {
   "interpreter": {
    "hash": "e7370f93d1d0cde622a1f8e1c04877d8463912d04d973331ad4851f04de6915a"
   }
  }
 },
 "nbformat": 4,
 "nbformat_minor": 2
}

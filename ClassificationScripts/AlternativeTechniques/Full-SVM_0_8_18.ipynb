{
 "cells": [
  {
   "cell_type": "markdown",
   "metadata": {},
   "source": [
    "----\n",
    "# SVM classification using sklearn\n",
    "----"
   ]
  },
  {
   "cell_type": "code",
   "execution_count": 1,
   "metadata": {},
   "outputs": [],
   "source": [
    "%load_ext autoreload\n",
    "%autoreload 2\n",
    "\n",
    "from sklearn.metrics import confusion_matrix as skconfmatrix\n",
    "import matplotlib.pyplot as plt\n",
    "import pandas as pd\n",
    "import numpy as np\n",
    "import os\n",
    "import sys\n",
    "\n",
    "# Set correct working directory\n",
    "if os.getcwd() != os.path.abspath(\"../Python\"):\n",
    "    os.chdir(\"../../Python\")\n",
    "\n",
    "# Import files from /Python directory\n",
    "from confusion_matrix import confusion_matrix,false_info\n",
    "\n",
    "plt.rcParams.update({\n",
    "    \"text.usetex\": True,\n",
    "    \"font.family\": \"cmr\"\n",
    "})"
   ]
  },
  {
   "cell_type": "code",
   "execution_count": 2,
   "metadata": {},
   "outputs": [
    {
     "name": "stdout",
     "output_type": "stream",
     "text": [
      "0         0\n",
      "10        0\n",
      "20        0\n",
      "30        0\n",
      "40        0\n",
      "         ..\n",
      "25150    20\n",
      "25160    20\n",
      "25170    20\n",
      "25180    20\n",
      "25190    20\n",
      "Name: target, Length: 2520, dtype: int64\n"
     ]
    }
   ],
   "source": [
    "# Load data sets\n",
    "trn_data = pd.read_csv(f\"../TrainingData/neodata/soltani_14d_nonoise_1200.csv\")\n",
    "vld_data = pd.read_csv(f\"../ValidationData/neodata/soltani_14d_nonoise_1200.csv\")\n",
    "tst_data = pd.read_csv(f\"../TestData/neodata/soltani_14d_nonoise_100.csv\")\n",
    "trn_data = trn_data.iloc[::10,:]\n",
    "\n",
    "# Separate into data and targets\n",
    "y_trn = trn_data.pop('target')\n",
    "X_trn = trn_data\n",
    "print(y_trn)\n",
    "\n",
    "y_vld = vld_data.pop('target')\n",
    "X_vld = vld_data\n",
    "\n",
    "y_tst = tst_data.pop('target')\n",
    "X_tst = tst_data"
   ]
  },
  {
   "cell_type": "markdown",
   "metadata": {},
   "source": [
    "# Extract and keep only class 0, 8 and 8"
   ]
  },
  {
   "cell_type": "code",
   "execution_count": 3,
   "metadata": {},
   "outputs": [],
   "source": [
    "X_trn = X_trn[(y_trn == 0) | (y_trn == 8) | (y_trn == 18)]\n",
    "y_trn = y_trn[(y_trn == 0) | (y_trn == 8) | (y_trn == 18)]\n",
    "\n",
    "X_tst = X_tst[(y_tst == 0) | (y_tst == 8) | (y_tst == 18)]\n",
    "y_tst = y_tst[(y_tst == 0) | (y_tst == 8) | (y_tst == 18)]\n",
    "\n",
    "X_vld = X_vld[(y_vld == 0) | (y_vld == 8) | (y_vld == 18)]\n",
    "y_vld = y_vld[(y_vld == 0) | (y_vld == 8) | (y_vld == 18)]"
   ]
  },
  {
   "cell_type": "code",
   "execution_count": 4,
   "metadata": {},
   "outputs": [
    {
     "data": {
      "text/html": [
       "<div>\n",
       "<style scoped>\n",
       "    .dataframe tbody tr th:only-of-type {\n",
       "        vertical-align: middle;\n",
       "    }\n",
       "\n",
       "    .dataframe tbody tr th {\n",
       "        vertical-align: top;\n",
       "    }\n",
       "\n",
       "    .dataframe thead th {\n",
       "        text-align: right;\n",
       "    }\n",
       "</style>\n",
       "<table border=\"1\" class=\"dataframe\">\n",
       "  <thead>\n",
       "    <tr style=\"text-align: right;\">\n",
       "      <th></th>\n",
       "      <th>Pdis</th>\n",
       "      <th>T0</th>\n",
       "      <th>Tc</th>\n",
       "      <th>Tdis</th>\n",
       "      <th>Tret</th>\n",
       "      <th>Tsuc</th>\n",
       "      <th>Tsh</th>\n",
       "      <th>Tsup</th>\n",
       "      <th>CondFan</th>\n",
       "      <th>Tamb</th>\n",
       "      <th>Tset</th>\n",
       "    </tr>\n",
       "  </thead>\n",
       "  <tbody>\n",
       "    <tr>\n",
       "      <th>0</th>\n",
       "      <td>8.931735</td>\n",
       "      <td>-7.327275</td>\n",
       "      <td>35.250968</td>\n",
       "      <td>62.398172</td>\n",
       "      <td>9.213731</td>\n",
       "      <td>5.218196</td>\n",
       "      <td>12.545463</td>\n",
       "      <td>-0.007051</td>\n",
       "      <td>91.677418</td>\n",
       "      <td>30</td>\n",
       "      <td>0</td>\n",
       "    </tr>\n",
       "    <tr>\n",
       "      <th>10</th>\n",
       "      <td>8.305619</td>\n",
       "      <td>3.273855</td>\n",
       "      <td>32.650593</td>\n",
       "      <td>42.607281</td>\n",
       "      <td>14.157928</td>\n",
       "      <td>10.027551</td>\n",
       "      <td>6.753701</td>\n",
       "      <td>7.010487</td>\n",
       "      <td>62.784366</td>\n",
       "      <td>30</td>\n",
       "      <td>7</td>\n",
       "    </tr>\n",
       "    <tr>\n",
       "      <th>20</th>\n",
       "      <td>9.065025</td>\n",
       "      <td>-8.298837</td>\n",
       "      <td>35.786750</td>\n",
       "      <td>65.200167</td>\n",
       "      <td>9.649841</td>\n",
       "      <td>5.515914</td>\n",
       "      <td>13.814733</td>\n",
       "      <td>-0.018808</td>\n",
       "      <td>97.630555</td>\n",
       "      <td>20</td>\n",
       "      <td>0</td>\n",
       "    </tr>\n",
       "    <tr>\n",
       "      <th>30</th>\n",
       "      <td>7.953924</td>\n",
       "      <td>-2.567634</td>\n",
       "      <td>31.124694</td>\n",
       "      <td>46.600644</td>\n",
       "      <td>5.161695</td>\n",
       "      <td>3.144239</td>\n",
       "      <td>5.711873</td>\n",
       "      <td>0.004178</td>\n",
       "      <td>45.829937</td>\n",
       "      <td>10</td>\n",
       "      <td>0</td>\n",
       "    </tr>\n",
       "    <tr>\n",
       "      <th>40</th>\n",
       "      <td>8.087326</td>\n",
       "      <td>-3.011530</td>\n",
       "      <td>31.709352</td>\n",
       "      <td>48.406431</td>\n",
       "      <td>5.810716</td>\n",
       "      <td>3.424835</td>\n",
       "      <td>6.436364</td>\n",
       "      <td>0.003500</td>\n",
       "      <td>52.326137</td>\n",
       "      <td>20</td>\n",
       "      <td>0</td>\n",
       "    </tr>\n",
       "  </tbody>\n",
       "</table>\n",
       "</div>"
      ],
      "text/plain": [
       "        Pdis        T0         Tc       Tdis       Tret       Tsuc        Tsh  \\\n",
       "0   8.931735 -7.327275  35.250968  62.398172   9.213731   5.218196  12.545463   \n",
       "10  8.305619  3.273855  32.650593  42.607281  14.157928  10.027551   6.753701   \n",
       "20  9.065025 -8.298837  35.786750  65.200167   9.649841   5.515914  13.814733   \n",
       "30  7.953924 -2.567634  31.124694  46.600644   5.161695   3.144239   5.711873   \n",
       "40  8.087326 -3.011530  31.709352  48.406431   5.810716   3.424835   6.436364   \n",
       "\n",
       "        Tsup    CondFan  Tamb  Tset  \n",
       "0  -0.007051  91.677418    30     0  \n",
       "10  7.010487  62.784366    30     7  \n",
       "20 -0.018808  97.630555    20     0  \n",
       "30  0.004178  45.829937    10     0  \n",
       "40  0.003500  52.326137    20     0  "
      ]
     },
     "execution_count": 4,
     "metadata": {},
     "output_type": "execute_result"
    }
   ],
   "source": [
    "X_trn = X_trn.drop(columns=['Density','CprPower','Psuc'])\n",
    "X_tst = X_tst.drop(columns=['Density','CprPower','Psuc'])\n",
    "X_vld = X_vld.drop(columns=['Density','CprPower','Psuc'])\n",
    "X_trn.head()"
   ]
  },
  {
   "cell_type": "markdown",
   "metadata": {},
   "source": [
    "## Standardize data"
   ]
  },
  {
   "cell_type": "code",
   "execution_count": 5,
   "metadata": {},
   "outputs": [
    {
     "name": "stdout",
     "output_type": "stream",
     "text": [
      "         Pdis        T0        Tc      Tdis      Tret      Tsuc       Tsh  \\\n",
      "0    0.318048 -1.343842  0.345964  1.112158 -0.835994 -0.980200  0.818793   \n",
      "1   -0.661961  0.621720 -0.654391 -0.823968 -0.008296  0.117741 -0.785286   \n",
      "2    0.526674 -1.523980  0.552077  1.386275 -0.762986 -0.912233  1.170329   \n",
      "3   -1.212439 -0.461354 -1.241399 -0.433301 -1.514337 -1.453669 -1.073829   \n",
      "4   -1.003637 -0.543657 -1.016483 -0.256642 -1.405685 -1.389611 -0.873175   \n",
      "..        ...       ...       ...       ...       ...       ...       ...   \n",
      "355 -0.751735  0.658017 -0.748825 -0.898585 -0.053461  0.099362 -0.861804   \n",
      "356  1.871405  0.444020  1.828670  0.711930  1.801819  1.494808  1.150775   \n",
      "357 -0.497787  1.475439 -0.482940 -1.212346  0.949033  1.152482 -0.805217   \n",
      "358  1.180530 -0.338500  1.183644  0.882753  0.650080  0.493651  1.105094   \n",
      "359 -0.898846 -0.589119 -0.904654 -0.164751 -1.354241 -1.358382 -0.767379   \n",
      "\n",
      "         Tsup   CondFan      Tamb      Tset  target  \n",
      "0   -1.181377  0.750045  1.288400 -1.180727       0  \n",
      "1    0.268869 -0.625490  1.288400  0.267172       0  \n",
      "2   -1.183807  1.033461  0.061352 -1.180727       0  \n",
      "3   -1.179057 -1.432653 -1.165695 -1.180727       0  \n",
      "4   -1.179197 -1.123383  0.061352 -1.180727       0  \n",
      "..        ...       ...       ...       ...     ...  \n",
      "355  0.266709 -0.755341  0.061352  0.267172      18  \n",
      "356  1.300019  1.146265  1.288400  1.301386      18  \n",
      "357  1.300014 -0.389737  0.061352  1.301386      18  \n",
      "358  0.266743  1.146265 -1.165695  0.267172      18  \n",
      "359 -1.179918 -0.969613  1.288400 -1.180727      18  \n",
      "\n",
      "[360 rows x 12 columns]\n"
     ]
    }
   ],
   "source": [
    "# Use standard scaler for scaling\n",
    "from sklearn.preprocessing import StandardScaler\n",
    "standardizer = StandardScaler()\n",
    "\n",
    "# Use PCA sphering/whitening for scaling\n",
    "# from sklearn.decomposition import PCA\n",
    "# standardizer = PCA(whiten=True)\n",
    "\n",
    "X_trn = pd.DataFrame(standardizer.fit_transform(X_trn), columns = X_trn.columns)\n",
    "X_vld = pd.DataFrame(standardizer.transform(X_vld), columns = X_trn.columns)\n",
    "X_tst = pd.DataFrame(standardizer.transform(X_tst), columns = X_trn.columns)\n",
    "X_trn.insert(len(X_trn.columns), 'target', y_trn.to_numpy())\n",
    "X_vld.insert(len(X_vld.columns), 'target', y_vld.to_numpy())\n",
    "X_tst.insert(len(X_tst.columns), 'target', y_tst.to_numpy())\n",
    "print(X_trn)"
   ]
  },
  {
   "cell_type": "code",
   "execution_count": 6,
   "metadata": {},
   "outputs": [
    {
     "name": "stdout",
     "output_type": "stream",
     "text": [
      "Preserving 100.0% of variance\n"
     ]
    },
    {
     "data": {
      "image/png": "[encoded data removed]",
      "text/plain": [
       "<Figure size 500x500 with 1 Axes>"
      ]
     },
     "metadata": {},
     "output_type": "display_data"
    }
   ],
   "source": [
    "from lda import LDA_reducer\n",
    "\n",
    "LDA = LDA_reducer(X_trn, 2,'target')\n",
    "X_trn = LDA.transform(X_trn)\n",
    "X_vld = LDA.transform(X_vld)\n",
    "X_tst = LDA.transform(X_tst)\n"
   ]
  },
  {
   "cell_type": "code",
   "execution_count": 7,
   "metadata": {},
   "outputs": [
    {
     "data": {
      "image/png": "[encoded data removed]",
      "text/plain": [
       "<Figure size 600x400 with 1 Axes>"
      ]
     },
     "metadata": {},
     "output_type": "display_data"
    }
   ],
   "source": [
    "from plot_functions import plot_transformation\n",
    "plot_transformation(X_trn, plt_show= True)\n",
    "\n",
    "X_trn = X_trn.drop('target', axis = 1)\n",
    "X_vld = X_vld.drop('target', axis = 1)\n",
    "X_tst = X_tst.drop('target', axis = 1)"
   ]
  },
  {
   "cell_type": "markdown",
   "metadata": {},
   "source": [
    "---\n",
    "\n",
    "# SVM fitting"
   ]
  },
  {
   "cell_type": "code",
   "execution_count": 8,
   "metadata": {},
   "outputs": [],
   "source": [
    "# Setup axis ticks with classes removed\n",
    "ticks = [[x for x in range(len(y_trn.unique()))],y_trn.unique()]"
   ]
  },
  {
   "cell_type": "code",
   "execution_count": 9,
   "metadata": {},
   "outputs": [
    {
     "name": "stdout",
     "output_type": "stream",
     "text": [
      "Fitting 5 folds for each of 961 candidates, totalling 4805 fits\n",
      "SVC(C=7356.422544596414, decision_function_shape='ovo', gamma=1.0)\n"
     ]
    }
   ],
   "source": [
    "# Training the SVM, on the 5 dimensional data\n",
    "from sklearn import svm\n",
    "from sklearn.model_selection import GridSearchCV, PredefinedSplit,GroupKFold\n",
    "\n",
    "svc = svm.SVC()\n",
    "C_params = [10**x for x  in np.linspace(2,4, 31)]\n",
    "gamma_params = [10**x for x  in np.linspace(-2,0, 31)]\n",
    "clf = GridSearchCV(svc, {'decision_function_shape':['ovo'], 'C' : C_params, 'gamma' : gamma_params}, n_jobs = -1, verbose = 3.5)\n",
    "\n",
    "clf.fit(X_trn,y_trn)\n",
    "print(clf.best_estimator_)"
   ]
  },
  {
   "cell_type": "markdown",
   "metadata": {},
   "source": [
    "# Classifying training data"
   ]
  },
  {
   "cell_type": "code",
   "execution_count": 10,
   "metadata": {},
   "outputs": [
    {
     "data": {
      "text/plain": [
       "(<Figure size 500x500 with 1 Axes>,\n",
       " <AxesSubplot:title={'center':'SVM on training set for faults 0, 8 and 18 : Accuracy 46.111%'}, xlabel='Predicted class', ylabel='True class'>)"
      ]
     },
     "execution_count": 10,
     "metadata": {},
     "output_type": "execute_result"
    },
    {
     "data": {
      "image/png": "[encoded data removed]",
      "text/plain": [
       "<Figure size 500x500 with 1 Axes>"
      ]
     },
     "metadata": {},
     "output_type": "display_data"
    }
   ],
   "source": [
    "# Make predictions for the training set\n",
    "y_hat_trn = clf.predict(X_trn)\n",
    "\n",
    "# plot the confusion matrix\n",
    "conf_matrix_trn = skconfmatrix(y_trn,y_hat_trn)\n",
    "confusion_matrix(conf_matrix_trn, figsize = (5,5),axis_ticks = ticks,title='SVM on training set for faults 0, 8 and 18')"
   ]
  },
  {
   "cell_type": "markdown",
   "metadata": {},
   "source": [
    "# Classifying validation data"
   ]
  },
  {
   "cell_type": "code",
   "execution_count": 11,
   "metadata": {},
   "outputs": [
    {
     "data": {
      "text/plain": [
       "(<Figure size 500x500 with 1 Axes>,\n",
       " <AxesSubplot:title={'center':'SVM on validation set for faults 0, 8 and 18 : Accuracy 46.611%'}, xlabel='Predicted class', ylabel='True class'>)"
      ]
     },
     "execution_count": 11,
     "metadata": {},
     "output_type": "execute_result"
    },
    {
     "data": {
      "image/png": "[encoded data removed]",
      "text/plain": [
       "<Figure size 500x500 with 1 Axes>"
      ]
     },
     "metadata": {},
     "output_type": "display_data"
    }
   ],
   "source": [
    "# Make predictions for the training set\n",
    "y_hat_vld = clf.predict(X_vld)\n",
    "\n",
    "#plot the confusion matrix\n",
    "conf_matrix_vld = skconfmatrix(y_vld,y_hat_vld)\n",
    "confusion_matrix(conf_matrix_vld, figsize = (5,5),axis_ticks = ticks,title='SVM on validation set for faults 0, 8 and 18',save_fig_name = sys.path[0] + \"/faults_0_8_18_plots/Full_SVM_validation_rm_8_18.pdf\")"
   ]
  },
  {
   "cell_type": "markdown",
   "metadata": {},
   "source": [
    "# Classifying test data"
   ]
  },
  {
   "cell_type": "code",
   "execution_count": 12,
   "metadata": {},
   "outputs": [
    {
     "name": "stdout",
     "output_type": "stream",
     "text": [
      "c:\\Users\\bosto\\Documents\\GitHub\\p7-ml-refrigeration-fault-detection\\ClassificationScripts\\AlternativeTechniques\n"
     ]
    },
    {
     "data": {
      "text/plain": [
       "(<Figure size 500x500 with 1 Axes>,\n",
       " <AxesSubplot:title={'center':'SVM on test set for faults 0, 8 and 18 : Accuracy 33.333%'}, xlabel='Predicted class', ylabel='True class'>)"
      ]
     },
     "execution_count": 12,
     "metadata": {},
     "output_type": "execute_result"
    },
    {
     "data": {
      "image/png": "[encoded data removed]",
      "text/plain": [
       "<Figure size 500x500 with 1 Axes>"
      ]
     },
     "metadata": {},
     "output_type": "display_data"
    }
   ],
   "source": [
    "# Make predictions for the training set\n",
    "y_hat_tst = clf.predict(X_tst)\n",
    "\n",
    "#plot the confusion matrix\n",
    "print(sys.path[0])\n",
    "conf_matrix_vld = skconfmatrix(y_tst,y_hat_tst)\n",
    "confusion_matrix(conf_matrix_vld, figsize = (5,5),axis_ticks = ticks,title='SVM on test set for faults 0, 8 and 18',save_fig_name = sys.path[0] + \"/faults_0_8_18_plots/Full_SVM_test_rm_8_18.pdf\")"
   ]
  }
 ],
 "metadata": {
  "kernelspec": {
   "display_name": "Python 3.9.7 64-bit",
   "language": "python",
   "name": "python3"
  },
  "language_info": {
   "codemirror_mode": {
    "name": "ipython",
    "version": 3
   },
   "file_extension": ".py",
   "mimetype": "text/x-python",
   "name": "python",
   "nbconvert_exporter": "python",
   "pygments_lexer": "ipython3",
   "version": "3.9.7"
  },
  "orig_nbformat": 4,
  "vscode": {
   "interpreter": {
    "hash": "e461952fdfc36372be0d5cb3093dbd3f3705f133fd6c01130dca5dc342d9eb2d"
   }
  }
 },
 "nbformat": 4,
 "nbformat_minor": 2
}

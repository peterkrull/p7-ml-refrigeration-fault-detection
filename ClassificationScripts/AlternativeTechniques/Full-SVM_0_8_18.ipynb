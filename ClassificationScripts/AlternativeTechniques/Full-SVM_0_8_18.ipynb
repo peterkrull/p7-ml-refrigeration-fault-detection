{
 "cells": [
  {
   "cell_type": "markdown",
   "metadata": {},
   "source": [
    "----\n",
    "# SVM classification using sklearn\n",
    "----"
   ]
  },
  {
   "cell_type": "code",
   "execution_count": 98,
   "metadata": {},
   "outputs": [
    {
     "name": "stdout",
     "output_type": "stream",
     "text": [
      "The autoreload extension is already loaded. To reload it, use:\n",
      "  %reload_ext autoreload\n"
     ]
    }
   ],
   "source": [
    "%load_ext autoreload\n",
    "%autoreload 2\n",
    "\n",
    "from sklearn.metrics import confusion_matrix as skconfmatrix\n",
    "import matplotlib.pyplot as plt\n",
    "import pandas as pd\n",
    "import numpy as np\n",
    "import os\n",
    "\n",
    "# Set correct working directory\n",
    "if os.getcwd() != os.path.abspath(\"../Python\"):\n",
    "    os.chdir(\"../../Python\")\n",
    "\n",
    "# Import files from /Python directory\n",
    "from confusion_matrix import confusion_matrix,false_info\n",
    "\n",
    "plt.rcParams.update({\n",
    "    \"text.usetex\": True,\n",
    "    \"font.family\": \"cmr\"\n",
    "})"
   ]
  },
  {
   "cell_type": "code",
   "execution_count": 99,
   "metadata": {},
   "outputs": [],
   "source": [
    "# Load data sets\n",
    "trn_data = pd.read_csv(f\"../TrainingData/neodata/soltani_14d_nonoise_1200.csv\").sample(frac=0.1)\n",
    "vld_data = pd.read_csv(f\"../ValidationData/neodata/soltani_14d_nonoise_1200.csv\")\n",
    "tst_data = pd.read_csv(f\"../TestData/neodata/soltani_14d_nonoise_100.csv\")\n",
    "\n",
    "# Separate into data and targets\n",
    "y_trn = trn_data.pop('target')\n",
    "X_trn = trn_data\n",
    "\n",
    "y_vld = vld_data.pop('target')\n",
    "X_vld = vld_data\n",
    "\n",
    "y_tst = tst_data.pop('target')\n",
    "X_tst = tst_data"
   ]
  },
  {
   "cell_type": "markdown",
   "metadata": {},
   "source": [
    "# Extract and keep only class 0, 8 and 8"
   ]
  },
  {
   "cell_type": "code",
   "execution_count": 100,
   "metadata": {},
   "outputs": [],
   "source": [
    "X_trn = X_trn[(y_trn == 0) | (y_trn == 8) | (y_trn == 18)]\n",
    "y_trn = y_trn[(y_trn == 0) | (y_trn == 8) | (y_trn == 18)]\n",
    "\n",
    "X_tst = X_tst[(y_tst == 0) | (y_tst == 8) | (y_tst == 18)]\n",
    "y_tst = y_tst[(y_tst == 0) | (y_tst == 8) | (y_tst == 18)]\n",
    "\n",
    "X_vld = X_vld[(y_vld == 0) | (y_vld == 8) | (y_vld == 18)]\n",
    "y_vld = y_vld[(y_vld == 0) | (y_vld == 8) | (y_vld == 18)]"
   ]
  },
  {
   "cell_type": "code",
   "execution_count": 101,
   "metadata": {},
   "outputs": [
    {
     "data": {
      "text/html": [
       "<div>\n",
       "<style scoped>\n",
       "    .dataframe tbody tr th:only-of-type {\n",
       "        vertical-align: middle;\n",
       "    }\n",
       "\n",
       "    .dataframe tbody tr th {\n",
       "        vertical-align: top;\n",
       "    }\n",
       "\n",
       "    .dataframe thead th {\n",
       "        text-align: right;\n",
       "    }\n",
       "</style>\n",
       "<table border=\"1\" class=\"dataframe\">\n",
       "  <thead>\n",
       "    <tr style=\"text-align: right;\">\n",
       "      <th></th>\n",
       "      <th>Pdis</th>\n",
       "      <th>T0</th>\n",
       "      <th>Tc</th>\n",
       "      <th>Tdis</th>\n",
       "      <th>Tret</th>\n",
       "      <th>Tsuc</th>\n",
       "      <th>Tsh</th>\n",
       "      <th>Tsup</th>\n",
       "      <th>CondFan</th>\n",
       "      <th>Tamb</th>\n",
       "      <th>Tset</th>\n",
       "    </tr>\n",
       "  </thead>\n",
       "  <tbody>\n",
       "    <tr>\n",
       "      <th>0</th>\n",
       "      <td>8.931735</td>\n",
       "      <td>-7.327275</td>\n",
       "      <td>35.250968</td>\n",
       "      <td>62.398172</td>\n",
       "      <td>9.213731</td>\n",
       "      <td>5.218196</td>\n",
       "      <td>12.545463</td>\n",
       "      <td>-0.007051</td>\n",
       "      <td>91.677418</td>\n",
       "      <td>30</td>\n",
       "      <td>0</td>\n",
       "    </tr>\n",
       "    <tr>\n",
       "      <th>1</th>\n",
       "      <td>8.283502</td>\n",
       "      <td>8.350783</td>\n",
       "      <td>32.555930</td>\n",
       "      <td>36.902906</td>\n",
       "      <td>19.335149</td>\n",
       "      <td>14.454287</td>\n",
       "      <td>6.103873</td>\n",
       "      <td>12.023629</td>\n",
       "      <td>61.732558</td>\n",
       "      <td>10</td>\n",
       "      <td>12</td>\n",
       "    </tr>\n",
       "    <tr>\n",
       "      <th>2</th>\n",
       "      <td>7.998677</td>\n",
       "      <td>4.392486</td>\n",
       "      <td>31.320564</td>\n",
       "      <td>38.446461</td>\n",
       "      <td>12.682279</td>\n",
       "      <td>9.347677</td>\n",
       "      <td>4.938300</td>\n",
       "      <td>7.049683</td>\n",
       "      <td>48.006264</td>\n",
       "      <td>10</td>\n",
       "      <td>7</td>\n",
       "    </tr>\n",
       "    <tr>\n",
       "      <th>3</th>\n",
       "      <td>8.460851</td>\n",
       "      <td>7.719790</td>\n",
       "      <td>33.308655</td>\n",
       "      <td>39.283819</td>\n",
       "      <td>20.119498</td>\n",
       "      <td>14.619819</td>\n",
       "      <td>6.900041</td>\n",
       "      <td>12.022797</td>\n",
       "      <td>70.096165</td>\n",
       "      <td>30</td>\n",
       "      <td>12</td>\n",
       "    </tr>\n",
       "    <tr>\n",
       "      <th>4</th>\n",
       "      <td>9.377305</td>\n",
       "      <td>-1.469814</td>\n",
       "      <td>37.019220</td>\n",
       "      <td>58.629453</td>\n",
       "      <td>17.894334</td>\n",
       "      <td>11.548947</td>\n",
       "      <td>13.018770</td>\n",
       "      <td>7.004961</td>\n",
       "      <td>100.000000</td>\n",
       "      <td>30</td>\n",
       "      <td>7</td>\n",
       "    </tr>\n",
       "  </tbody>\n",
       "</table>\n",
       "</div>"
      ],
      "text/plain": [
       "       Pdis        T0         Tc       Tdis       Tret       Tsuc        Tsh  \\\n",
       "0  8.931735 -7.327275  35.250968  62.398172   9.213731   5.218196  12.545463   \n",
       "1  8.283502  8.350783  32.555930  36.902906  19.335149  14.454287   6.103873   \n",
       "2  7.998677  4.392486  31.320564  38.446461  12.682279   9.347677   4.938300   \n",
       "3  8.460851  7.719790  33.308655  39.283819  20.119498  14.619819   6.900041   \n",
       "4  9.377305 -1.469814  37.019220  58.629453  17.894334  11.548947  13.018770   \n",
       "\n",
       "        Tsup     CondFan  Tamb  Tset  \n",
       "0  -0.007051   91.677418    30     0  \n",
       "1  12.023629   61.732558    10    12  \n",
       "2   7.049683   48.006264    10     7  \n",
       "3  12.022797   70.096165    30    12  \n",
       "4   7.004961  100.000000    30     7  "
      ]
     },
     "execution_count": 101,
     "metadata": {},
     "output_type": "execute_result"
    }
   ],
   "source": [
    "X_trn = X_trn.drop(columns=['Density','CprPower','Psuc'])\n",
    "X_tst = X_tst.drop(columns=['Density','CprPower','Psuc'])\n",
    "X_vld = X_vld.drop(columns=['Density','CprPower','Psuc'])\n",
    "X_trn.head()"
   ]
  },
  {
   "cell_type": "markdown",
   "metadata": {},
   "source": [
    "## Standardize data"
   ]
  },
  {
   "cell_type": "code",
   "execution_count": 102,
   "metadata": {},
   "outputs": [],
   "source": [
    "# Use standard scaler for scaling\n",
    "from sklearn.preprocessing import StandardScaler\n",
    "standardizer = StandardScaler()\n",
    "\n",
    "# Use PCA sphering/whitening for scaling\n",
    "# from sklearn.decomposition import PCA\n",
    "# standardizer = PCA(whiten=True)\n",
    "\n",
    "X_trn = standardizer.fit_transform(X_trn)\n",
    "X_vld = standardizer.transform(X_vld)\n",
    "X_tst = standardizer.transform(X_tst)"
   ]
  },
  {
   "cell_type": "markdown",
   "metadata": {},
   "source": [
    "---\n",
    "\n",
    "# SVM fitting"
   ]
  },
  {
   "cell_type": "code",
   "execution_count": 103,
   "metadata": {},
   "outputs": [],
   "source": [
    "# Setup axis ticks with classes removed\n",
    "ticks = [[x for x in range(len(y_trn.unique()))],y_trn.unique()]"
   ]
  },
  {
   "cell_type": "code",
   "execution_count": 131,
   "metadata": {},
   "outputs": [
    {
     "data": {
      "text/html": [
       "<style>#sk-container-id-27 {color: black;background-color: white;}#sk-container-id-27 pre{padding: 0;}#sk-container-id-27 div.sk-toggleable {background-color: white;}#sk-container-id-27 label.sk-toggleable__label {cursor: pointer;display: block;width: 100%;margin-bottom: 0;padding: 0.3em;box-sizing: border-box;text-align: center;}#sk-container-id-27 label.sk-toggleable__label-arrow:before {content: \"▸\";float: left;margin-right: 0.25em;color: #696969;}#sk-container-id-27 label.sk-toggleable__label-arrow:hover:before {color: black;}#sk-container-id-27 div.sk-estimator:hover label.sk-toggleable__label-arrow:before {color: black;}#sk-container-id-27 div.sk-toggleable__content {max-height: 0;max-width: 0;overflow: hidden;text-align: left;background-color: #f0f8ff;}#sk-container-id-27 div.sk-toggleable__content pre {margin: 0.2em;color: black;border-radius: 0.25em;background-color: #f0f8ff;}#sk-container-id-27 input.sk-toggleable__control:checked~div.sk-toggleable__content {max-height: 200px;max-width: 100%;overflow: auto;}#sk-container-id-27 input.sk-toggleable__control:checked~label.sk-toggleable__label-arrow:before {content: \"▾\";}#sk-container-id-27 div.sk-estimator input.sk-toggleable__control:checked~label.sk-toggleable__label {background-color: #d4ebff;}#sk-container-id-27 div.sk-label input.sk-toggleable__control:checked~label.sk-toggleable__label {background-color: #d4ebff;}#sk-container-id-27 input.sk-hidden--visually {border: 0;clip: rect(1px 1px 1px 1px);clip: rect(1px, 1px, 1px, 1px);height: 1px;margin: -1px;overflow: hidden;padding: 0;position: absolute;width: 1px;}#sk-container-id-27 div.sk-estimator {font-family: monospace;background-color: #f0f8ff;border: 1px dotted black;border-radius: 0.25em;box-sizing: border-box;margin-bottom: 0.5em;}#sk-container-id-27 div.sk-estimator:hover {background-color: #d4ebff;}#sk-container-id-27 div.sk-parallel-item::after {content: \"\";width: 100%;border-bottom: 1px solid gray;flex-grow: 1;}#sk-container-id-27 div.sk-label:hover label.sk-toggleable__label {background-color: #d4ebff;}#sk-container-id-27 div.sk-serial::before {content: \"\";position: absolute;border-left: 1px solid gray;box-sizing: border-box;top: 0;bottom: 0;left: 50%;z-index: 0;}#sk-container-id-27 div.sk-serial {display: flex;flex-direction: column;align-items: center;background-color: white;padding-right: 0.2em;padding-left: 0.2em;position: relative;}#sk-container-id-27 div.sk-item {position: relative;z-index: 1;}#sk-container-id-27 div.sk-parallel {display: flex;align-items: stretch;justify-content: center;background-color: white;position: relative;}#sk-container-id-27 div.sk-item::before, #sk-container-id-27 div.sk-parallel-item::before {content: \"\";position: absolute;border-left: 1px solid gray;box-sizing: border-box;top: 0;bottom: 0;left: 50%;z-index: -1;}#sk-container-id-27 div.sk-parallel-item {display: flex;flex-direction: column;z-index: 1;position: relative;background-color: white;}#sk-container-id-27 div.sk-parallel-item:first-child::after {align-self: flex-end;width: 50%;}#sk-container-id-27 div.sk-parallel-item:last-child::after {align-self: flex-start;width: 50%;}#sk-container-id-27 div.sk-parallel-item:only-child::after {width: 0;}#sk-container-id-27 div.sk-dashed-wrapped {border: 1px dashed gray;margin: 0 0.4em 0.5em 0.4em;box-sizing: border-box;padding-bottom: 0.4em;background-color: white;}#sk-container-id-27 div.sk-label label {font-family: monospace;font-weight: bold;display: inline-block;line-height: 1.2em;}#sk-container-id-27 div.sk-label-container {text-align: center;}#sk-container-id-27 div.sk-container {/* jupyter's `normalize.less` sets `[hidden] { display: none; }` but bootstrap.min.css set `[hidden] { display: none !important; }` so we also need the `!important` here to be able to override the default hidden behavior on the sphinx rendered scikit-learn.org. See: https://github.com/scikit-learn/scikit-learn/issues/21755 */display: inline-block !important;position: relative;}#sk-container-id-27 div.sk-text-repr-fallback {display: none;}</style><div id=\"sk-container-id-27\" class=\"sk-top-container\"><div class=\"sk-text-repr-fallback\"><pre>SVC(C=100, decision_function_shape=&#x27;ovo&#x27;, gamma=0.1)</pre><b>In a Jupyter environment, please rerun this cell to show the HTML representation or trust the notebook. <br />On GitHub, the HTML representation is unable to render, please try loading this page with nbviewer.org.</b></div><div class=\"sk-container\" hidden><div class=\"sk-item\"><div class=\"sk-estimator sk-toggleable\"><input class=\"sk-toggleable__control sk-hidden--visually\" id=\"sk-estimator-id-27\" type=\"checkbox\" checked><label for=\"sk-estimator-id-27\" class=\"sk-toggleable__label sk-toggleable__label-arrow\">SVC</label><div class=\"sk-toggleable__content\"><pre>SVC(C=100, decision_function_shape=&#x27;ovo&#x27;, gamma=0.1)</pre></div></div></div></div></div>"
      ],
      "text/plain": [
       "SVC(C=100, decision_function_shape='ovo', gamma=0.1)"
      ]
     },
     "execution_count": 131,
     "metadata": {},
     "output_type": "execute_result"
    }
   ],
   "source": [
    "# Training the SVM, on the 5 dimensional data\n",
    "from sklearn import svm\n",
    "clf = svm.SVC( C=100, decision_function_shape=\"ovo\", gamma=.1 )\n",
    "\n",
    "clf.fit(X_trn,y_trn)"
   ]
  },
  {
   "cell_type": "markdown",
   "metadata": {},
   "source": [
    "# Classifying training data"
   ]
  },
  {
   "cell_type": "code",
   "execution_count": 132,
   "metadata": {},
   "outputs": [
    {
     "data": {
      "text/plain": [
       "(<Figure size 500x500 with 1 Axes>,\n",
       " <AxesSubplot:title={'center':'SVM on training set for faults 0, 8 and 18 : Accuracy 49.611%'}, xlabel='Predicted class', ylabel='True class'>)"
      ]
     },
     "execution_count": 132,
     "metadata": {},
     "output_type": "execute_result"
    },
    {
     "data": {
      "image/png": "[encoded data removed]",
      "text/plain": [
       "<Figure size 500x500 with 1 Axes>"
      ]
     },
     "metadata": {},
     "output_type": "display_data"
    }
   ],
   "source": [
    "# Make predictions for the training set\n",
    "y_hat_trn = clf.predict(X_trn)\n",
    "\n",
    "# plot the confusion matrix\n",
    "conf_matrix_trn = skconfmatrix(y_trn,y_hat_trn)\n",
    "confusion_matrix(conf_matrix_trn, figsize = (5,5),axis_ticks = ticks,title='SVM on training set for faults 0, 8 and 18')"
   ]
  },
  {
   "cell_type": "markdown",
   "metadata": {},
   "source": [
    "# Classifying validation data"
   ]
  },
  {
   "cell_type": "code",
   "execution_count": 133,
   "metadata": {},
   "outputs": [
    {
     "data": {
      "text/plain": [
       "(<Figure size 500x500 with 1 Axes>,\n",
       " <AxesSubplot:title={'center':'SVM on validation set for faults 0, 8 and 18 : Accuracy 50.083%'}, xlabel='Predicted class', ylabel='True class'>)"
      ]
     },
     "execution_count": 133,
     "metadata": {},
     "output_type": "execute_result"
    },
    {
     "data": {
      "image/png": "[encoded data removed]",
      "text/plain": [
       "<Figure size 500x500 with 1 Axes>"
      ]
     },
     "metadata": {},
     "output_type": "display_data"
    }
   ],
   "source": [
    "# Make predictions for the training set\n",
    "y_hat_vld = clf.predict(X_vld)\n",
    "\n",
    "#plot the confusion matrix\n",
    "conf_matrix_vld = skconfmatrix(y_vld,y_hat_vld)\n",
    "confusion_matrix(conf_matrix_vld, figsize = (5,5),axis_ticks = ticks,title='SVM on validation set for faults 0, 8 and 18',save_fig_name = \"../ConfusionPlots/Full_SVM_validation_rm_8_18.pdf\")"
   ]
  },
  {
   "cell_type": "markdown",
   "metadata": {},
   "source": [
    "# Classifying test data"
   ]
  },
  {
   "cell_type": "code",
   "execution_count": 134,
   "metadata": {},
   "outputs": [
    {
     "data": {
      "text/plain": [
       "(<Figure size 500x500 with 1 Axes>,\n",
       " <AxesSubplot:title={'center':'SVM on test set for faults 0, 8 and 18 : Accuracy 33.333%'}, xlabel='Predicted class', ylabel='True class'>)"
      ]
     },
     "execution_count": 134,
     "metadata": {},
     "output_type": "execute_result"
    },
    {
     "data": {
      "image/png": "[encoded data removed]",
      "text/plain": [
       "<Figure size 500x500 with 1 Axes>"
      ]
     },
     "metadata": {},
     "output_type": "display_data"
    }
   ],
   "source": [
    "# Make predictions for the training set\n",
    "y_hat_tst = clf.predict(X_tst)\n",
    "\n",
    "#plot the confusion matrix\n",
    "conf_matrix_vld = skconfmatrix(y_tst,y_hat_tst)\n",
    "confusion_matrix(conf_matrix_vld, figsize = (5,5),axis_ticks = ticks,title='SVM on test set for faults 0, 8 and 18',save_fig_name = \"../ConfusionPlots/Full_SVM_test_rm_8_18.pdf\")"
   ]
  }
 ],
 "metadata": {
  "kernelspec": {
   "display_name": "Python 3.10.7 64-bit",
   "language": "python",
   "name": "python3"
  },
  "language_info": {
   "codemirror_mode": {
    "name": "ipython",
    "version": 3
   },
   "file_extension": ".py",
   "mimetype": "text/x-python",
   "name": "python",
   "nbconvert_exporter": "python",
   "pygments_lexer": "ipython3",
   "version": "3.10.8"
  },
  "orig_nbformat": 4,
  "vscode": {
   "interpreter": {
    "hash": "e7370f93d1d0cde622a1f8e1c04877d8463912d04d973331ad4851f04de6915a"
   }
  }
 },
 "nbformat": 4,
 "nbformat_minor": 2
}

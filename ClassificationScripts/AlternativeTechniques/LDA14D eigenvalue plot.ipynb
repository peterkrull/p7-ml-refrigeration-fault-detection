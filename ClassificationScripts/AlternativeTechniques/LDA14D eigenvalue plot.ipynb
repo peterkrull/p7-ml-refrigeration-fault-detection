{
 "cells": [
  {
   "cell_type": "markdown",
   "metadata": {},
   "source": [
    "----\n",
    "# LDA classification using self-made library\n",
    "With LDA for dimensionality reduction to 5 dimensions\n",
    "\n",
    "----"
   ]
  },
  {
   "cell_type": "code",
   "execution_count": 1,
   "metadata": {},
   "outputs": [
    {
     "data": {
      "text/plain": [
       "'\\nplt.rcParams.update({\\n    \"text.usetex\": True,\\n    \"font.family\": \"cmr\"\\n})\\n'"
      ]
     },
     "execution_count": 1,
     "metadata": {},
     "output_type": "execute_result"
    }
   ],
   "source": [
    "%load_ext autoreload\n",
    "%autoreload 2\n",
    "\n",
    "from sklearn.metrics import confusion_matrix as skconfmatrix\n",
    "import matplotlib.pyplot as plt\n",
    "import pandas as pd\n",
    "import numpy as np\n",
    "import os\n",
    "\n",
    "# Set correct working directory\n",
    "if os.getcwd() != os.path.abspath(\"../Python\"):\n",
    "    os.chdir(\"../../Python\")\n",
    "\n",
    "# Import files from /Python directory\n",
    "from confusion_matrix import confusion_matrix\n",
    "\"\"\"\n",
    "plt.rcParams.update({\n",
    "    \"text.usetex\": True,\n",
    "    \"font.family\": \"cmr\"\n",
    "})\n",
    "\"\"\""
   ]
  },
  {
   "cell_type": "code",
   "execution_count": 2,
   "metadata": {},
   "outputs": [],
   "source": [
    "# Use noisy data sets\n",
    "noise = True\n",
    "\n",
    "# Load data sets\n",
    "trn_data = pd.read_csv(f\"../TrainingData/neodata/soltani_14d_{'' if noise else 'no'}noise_1200.csv\")\n",
    "vld_data = pd.read_csv(f\"../ValidationData/neodata/soltani_14d_{'' if noise else 'no'}noise_1200.csv\")\n",
    "tst_data = pd.read_csv(f\"../TestData/neodata/soltani_14d_{'' if noise else 'no'}noise_100.csv\") \n",
    "\n",
    "# Separate into data and targets\n",
    "y_trn = trn_data.pop('target')\n",
    "X_trn = trn_data\n",
    "\n",
    "y_vld = vld_data.pop('target')\n",
    "X_vld = vld_data\n",
    "\n",
    "y_tst = tst_data.pop('target')\n",
    "X_tst = tst_data"
   ]
  },
  {
   "cell_type": "markdown",
   "metadata": {},
   "source": [
    "## Standardize data (z-norm)"
   ]
  },
  {
   "cell_type": "code",
   "execution_count": 3,
   "metadata": {},
   "outputs": [],
   "source": [
    "from sklearn.preprocessing import StandardScaler\n",
    "\n",
    "standardizer = StandardScaler()\n",
    "\n",
    "X_trn = standardizer.fit_transform(X_trn)\n",
    "X_vld = standardizer.transform(X_vld)\n",
    "X_tst = standardizer.transform(X_tst)"
   ]
  },
  {
   "cell_type": "markdown",
   "metadata": {},
   "source": [
    "## LDA dimensionality reduction"
   ]
  },
  {
   "cell_type": "code",
   "execution_count": 4,
   "metadata": {},
   "outputs": [
    {
     "name": "stdout",
     "output_type": "stream",
     "text": [
      "Preserving 99.24% of variance\n"
     ]
    }
   ],
   "source": [
    "import lda\n",
    "\n",
    "reducer = lda.reducer(X_trn,y_trn,5)\n",
    "\n",
    "X_vld = reducer.transform(X_vld)\n",
    "X_tst = reducer.transform(X_tst)\n",
    "X_trn = reducer.transform(X_trn)\n",
    "\n",
    "\n"
   ]
  }
 ],
 "metadata": {
  "kernelspec": {
   "display_name": "Python 3.10.7 64-bit",
   "language": "python",
   "name": "python3"
  },
  "language_info": {
   "codemirror_mode": {
    "name": "ipython",
    "version": 3
   },
   "file_extension": ".py",
   "mimetype": "text/x-python",
   "name": "python",
   "nbconvert_exporter": "python",
   "pygments_lexer": "ipython3",
   "version": "3.10.7"
  },
  "orig_nbformat": 4,
  "vscode": {
   "interpreter": {
    "hash": "d74e81d012f728e843adba7904fc7c263b58dbdb09f40803427c0035f464cefc"
   }
  }
 },
 "nbformat": 4,
 "nbformat_minor": 2
}

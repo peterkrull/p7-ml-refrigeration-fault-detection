{
 "cells": [
  {
   "cell_type": "markdown",
   "metadata": {},
   "source": [
    "# Graph stuff"
   ]
  },
  {
   "cell_type": "code",
   "execution_count": 5,
   "metadata": {},
   "outputs": [
    {
     "data": {
      "image/png": "[encoded data removed]",
      "text/plain": [
       "<Figure size 640x480 with 1 Axes>"
      ]
     },
     "metadata": {},
     "output_type": "display_data"
    }
   ],
   "source": [
    "import matplotlib.pyplot as plt\n",
    "import numpy as np\n",
    "\n",
    "p1 = [4.2,4.5,5,5.3,6]\n",
    "p2 = [1.3,1.7,2,3,7,7.2,8,8.5]\n",
    "\n",
    "# set up the figure\n",
    "fig = plt.figure(1)\n",
    "ax = fig.add_subplot(111)\n",
    "ax.set_xlim(0,10)\n",
    "ax.set_ylim(0,10)\n",
    "\n",
    "# draw lines\n",
    "xmin = 1\n",
    "xmax = 9\n",
    "y = 5\n",
    "Y1=y*np.ones(len(p1))\n",
    "Y2=y*np.ones(len(p2))\n",
    "height = 1\n",
    "\n",
    "plt.hlines(y, xmin, xmax, 'k')\n",
    "plt.vlines(xmin, y - height / 2., y + height / 2., 'k')\n",
    "plt.vlines(xmax, y - height / 2., y + height / 2., 'k')\n",
    "plt.vlines((xmax+xmin)/2, y - 0.5 / 2., y + 0.5 / 2., 'k')\n",
    "\n",
    "# draw a point on the line\n",
    "plt.plot(p1,Y1, 'o')\n",
    "plt.plot(p2,Y2, 'o')\n",
    "\n",
    "# # add an arrow\n",
    "# plt.annotate('Price five days ago', (px,y), xytext = (px - 1, y + 1), \n",
    "#               arrowprops=dict(facecolor='black', shrink=0.1), \n",
    "#               horizontalalignment='right')\n",
    "\n",
    "# # add numbers\n",
    "# plt.text(xmin - 0.1, y, '80', horizontalalignment='right')\n",
    "# plt.text(xmax + 0.1, y, '115', horizontalalignment='left')\n",
    "\n",
    "plt.axis('off')\n",
    "#plt.show()\n",
    "plt.savefig('before_kernel.pdf',bbox_inches=\"tight\")"
   ]
  },
  {
   "cell_type": "code",
   "execution_count": 6,
   "metadata": {},
   "outputs": [
    {
     "data": {
      "image/png": "[encoded data removed]",
      "text/plain": [
       "<Figure size 432x288 with 1 Axes>"
      ]
     },
     "metadata": {
      "needs_background": "light"
     },
     "output_type": "display_data"
    }
   ],
   "source": [
    "# set up the figure\n",
    "fig = plt.figure(2)\n",
    "ax = fig.add_subplot(111)\n",
    "\n",
    "ax.set_xlim(0,10)\n",
    "ax.set_ylim(0,10)\n",
    "\n",
    "import numpy as np\n",
    "1*np.linspace(1,10)-5\n",
    "plt.plot(6*np.linspace(0,10)-2.3,linestyle='--',color='r')\n",
    "\n",
    "for px in p1:\n",
    "    plt.plot(px,px**2/8+0.5, 'ro', ms = 7, mfc = 'r')\n",
    "\n",
    "for px in p2:\n",
    "    plt.plot(px,px**2/8+0.5, 'go', ms = 7, mfc = 'g')\n",
    "\n",
    "\n",
    "\n",
    "plt.axis('off')\n",
    "plt.hlines(0.5, 0, 9.9,linewidth=3)\n",
    "plt.vlines(0.5,0, 9.9,linewidth=3)\n",
    "\n",
    "\n",
    "#plt.vlines(9.9,0, 1,linewidth=2)\n",
    "\n",
    "#plt.hlines(9.9, 0, 1,linewidth=2)\n",
    "plt.savefig('after_kernel.pdf',bbox_inches=\"tight\")"
   ]
  }
 ],
 "metadata": {
  "kernelspec": {
   "display_name": "Python 3.10.6 64-bit",
   "language": "python",
   "name": "python3"
  },
  "language_info": {
   "codemirror_mode": {
    "name": "ipython",
    "version": 3
   },
   "file_extension": ".py",
   "mimetype": "text/x-python",
   "name": "python",
   "nbconvert_exporter": "python",
   "pygments_lexer": "ipython3",
   "version": "3.10.6"
  },
  "orig_nbformat": 4,
  "vscode": {
   "interpreter": {
    "hash": "7e1998ff7f8aa20ada591c520b972326324e5ea05489af9e422744c7c09f6dad"
   }
  }
 },
 "nbformat": 4,
 "nbformat_minor": 2
}

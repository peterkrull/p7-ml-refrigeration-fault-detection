{
 "cells": [
  {
   "cell_type": "code",
   "execution_count": 2,
   "metadata": {},
   "outputs": [],
   "source": [
    "import matplotlib.pyplot as plt\n",
    "import pandas as pd\n",
    "import numpy as np\n",
    "import random"
   ]
  },
  {
   "cell_type": "code",
   "execution_count": 3,
   "metadata": {},
   "outputs": [
    {
     "name": "stdout",
     "output_type": "stream",
     "text": [
      "Requirement already satisfied: shapely in /Library/Frameworks/Python.framework/Versions/3.10/lib/python3.10/site-packages (1.8.5.post1)\n",
      "Note: you may need to restart the kernel to use updated packages.\n"
     ]
    }
   ],
   "source": [
    "pip install shapely"
   ]
  },
  {
   "cell_type": "markdown",
   "metadata": {},
   "source": [
    "https://stackoverflow.com/questions/23186804/graph-point-on-straight-line-number-line-in-python\n"
   ]
  },
  {
   "cell_type": "code",
   "execution_count": 1,
   "metadata": {},
   "outputs": [
    {
     "data": {
      "image/png": "[encoded data removed]",
      "text/plain": [
       "<Figure size 640x480 with 1 Axes>"
      ]
     },
     "metadata": {},
     "output_type": "display_data"
    }
   ],
   "source": [
    "import matplotlib.pyplot as plt\n",
    "\n",
    "# set up the figure\n",
    "fig = plt.figure()\n",
    "ax = fig.add_subplot(111)\n",
    "ax.set_xlim(0,10)\n",
    "ax.set_ylim(0,10)\n",
    "\n",
    "# draw lines\n",
    "xmin = 1\n",
    "xmax = 9\n",
    "y = 5\n",
    "height = 1\n",
    "\n",
    "plt.hlines(y, xmin, xmax)\n",
    "plt.vlines(xmin, y - height / 2., y + height / 2.)\n",
    "plt.vlines(xmax, y - height / 2., y + height / 2.)\n",
    "\n",
    "# draw a point on the line\n",
    "px = 4\n",
    "plt.plot(px,y, 'ro', ms = 15, mfc = 'r')\n",
    "\n",
    "# add an arrow\n",
    "plt.annotate('Price five days ago', (px,y), xytext = (px - 1, y + 1), \n",
    "              arrowprops=dict(facecolor='black', shrink=0.1), \n",
    "              horizontalalignment='right')\n",
    "\n",
    "# add numbers\n",
    "plt.text(xmin - 0.1, y, '80', horizontalalignment='right')\n",
    "plt.text(xmax + 0.1, y, '115', horizontalalignment='left')\n",
    "\n",
    "plt.axis('off')\n",
    "plt.show()"
   ]
  }
 ],
 "metadata": {
  "kernelspec": {
   "display_name": "Python 3.10.6 64-bit",
   "language": "python",
   "name": "python3"
  },
  "language_info": {
   "codemirror_mode": {
    "name": "ipython",
    "version": 3
   },
   "file_extension": ".py",
   "mimetype": "text/x-python",
   "name": "python",
   "nbconvert_exporter": "python",
   "pygments_lexer": "ipython3",
   "version": "3.10.6"
  },
  "orig_nbformat": 4,
  "vscode": {
   "interpreter": {
    "hash": "7e1998ff7f8aa20ada591c520b972326324e5ea05489af9e422744c7c09f6dad"
   }
  }
 },
 "nbformat": 4,
 "nbformat_minor": 2
}

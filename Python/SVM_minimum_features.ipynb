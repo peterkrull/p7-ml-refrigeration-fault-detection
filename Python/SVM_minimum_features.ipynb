{
 "cells": [
  {
   "cell_type": "markdown",
   "metadata": {},
   "source": [
    "----\n",
    "# Minumum number of features for SVM classification\n",
    "----"
   ]
  },
  {
   "cell_type": "code",
   "execution_count": 73,
   "metadata": {},
   "outputs": [
    {
     "name": "stdout",
     "output_type": "stream",
     "text": [
      "The autoreload extension is already loaded. To reload it, use:\n",
      "  %reload_ext autoreload\n"
     ]
    }
   ],
   "source": [
    "#import libraries\n",
    "%load_ext autoreload\n",
    "%autoreload 2\n",
    "\n",
    "import numpy as np\n",
    "import matplotlib.pyplot as plt\n",
    "from sklearn import svm\n",
    "\n",
    "import pandas as pd\n",
    "\n",
    "import standardization as sd                                #Self written, Scikit-learn do have standardScaler which does the same.\n",
    "import confusion_matrix\n",
    "from sklearn.metrics import confusion_matrix as cf\n",
    "\n",
    "UseTex = True\n",
    "if UseTex:\n",
    "    plt.rcParams.update({\n",
    "        \"text.usetex\": True,\n",
    "        \"font.family\": \"cmr\"\n",
    "    })\n"
   ]
  },
  {
   "cell_type": "code",
   "execution_count": 74,
   "metadata": {},
   "outputs": [],
   "source": [
    "#smaller dataset for feature selection\n",
    "for_feature_selection = pd.read_csv(\"../TrainingData/neodata/fault_all_10.csv\")\n",
    "\n",
    "# Load training data\n",
    "train_data = pd.read_csv(\"../TrainingData/neodata/fault_all_no_noise_100.csv\")\n",
    "test_data = pd.read_csv(\"../TestData/neodata/fault_all_no_noise_100.csv\")\n",
    "vald_data=pd.read_csv(\"../ValidationData/neodata/fault_all_no_noise_100.csv\")"
   ]
  },
  {
   "cell_type": "code",
   "execution_count": 75,
   "metadata": {},
   "outputs": [
    {
     "data": {
      "text/plain": [
       "array([ 0,  1,  2,  3,  4,  5,  6,  7,  9, 10, 11, 12, 13, 14, 15, 16, 17,\n",
       "       19, 20], dtype=int64)"
      ]
     },
     "execution_count": 75,
     "metadata": {},
     "output_type": "execute_result"
    }
   ],
   "source": [
    "Drop_8_18 = True\n",
    "\n",
    "if Drop_8_18:\n",
    "    train_data = train_data[ (train_data['target'] != 8) & (train_data['target'] != 18) ]\n",
    "    test_data = test_data[ (test_data['target'] != 8) & (test_data['target'] != 18) ]\n",
    "    vald_data = vald_data[ (vald_data['target'] != 8) & (vald_data['target'] != 18) ]\n",
    "\n",
    "train_data['target'].unique()"
   ]
  },
  {
   "cell_type": "code",
   "execution_count": 76,
   "metadata": {},
   "outputs": [],
   "source": [
    "#Normalization / conditioning\n",
    "standardizer = sd.standardization(train_data,'target')\n",
    "\n",
    "fts = standardizer.transform(for_feature_selection)\n",
    "trn = standardizer.transform(train_data)\n",
    "tst = standardizer.transform(test_data)\n",
    "val = standardizer.transform(vald_data)\n",
    "\n",
    "targets = train_data['target'].unique().tolist()        # List of classes\n",
    "\n",
    "labels_tst = test_data['target']\n"
   ]
  },
  {
   "cell_type": "markdown",
   "metadata": {},
   "source": [
    "SVM classifier on 10 point dataset to evaluate which features to drop"
   ]
  },
  {
   "cell_type": "code",
   "execution_count": 77,
   "metadata": {},
   "outputs": [
    {
     "data": {
      "text/html": [
       "<style>#sk-container-id-3 {color: black;background-color: white;}#sk-container-id-3 pre{padding: 0;}#sk-container-id-3 div.sk-toggleable {background-color: white;}#sk-container-id-3 label.sk-toggleable__label {cursor: pointer;display: block;width: 100%;margin-bottom: 0;padding: 0.3em;box-sizing: border-box;text-align: center;}#sk-container-id-3 label.sk-toggleable__label-arrow:before {content: \"▸\";float: left;margin-right: 0.25em;color: #696969;}#sk-container-id-3 label.sk-toggleable__label-arrow:hover:before {color: black;}#sk-container-id-3 div.sk-estimator:hover label.sk-toggleable__label-arrow:before {color: black;}#sk-container-id-3 div.sk-toggleable__content {max-height: 0;max-width: 0;overflow: hidden;text-align: left;background-color: #f0f8ff;}#sk-container-id-3 div.sk-toggleable__content pre {margin: 0.2em;color: black;border-radius: 0.25em;background-color: #f0f8ff;}#sk-container-id-3 input.sk-toggleable__control:checked~div.sk-toggleable__content {max-height: 200px;max-width: 100%;overflow: auto;}#sk-container-id-3 input.sk-toggleable__control:checked~label.sk-toggleable__label-arrow:before {content: \"▾\";}#sk-container-id-3 div.sk-estimator input.sk-toggleable__control:checked~label.sk-toggleable__label {background-color: #d4ebff;}#sk-container-id-3 div.sk-label input.sk-toggleable__control:checked~label.sk-toggleable__label {background-color: #d4ebff;}#sk-container-id-3 input.sk-hidden--visually {border: 0;clip: rect(1px 1px 1px 1px);clip: rect(1px, 1px, 1px, 1px);height: 1px;margin: -1px;overflow: hidden;padding: 0;position: absolute;width: 1px;}#sk-container-id-3 div.sk-estimator {font-family: monospace;background-color: #f0f8ff;border: 1px dotted black;border-radius: 0.25em;box-sizing: border-box;margin-bottom: 0.5em;}#sk-container-id-3 div.sk-estimator:hover {background-color: #d4ebff;}#sk-container-id-3 div.sk-parallel-item::after {content: \"\";width: 100%;border-bottom: 1px solid gray;flex-grow: 1;}#sk-container-id-3 div.sk-label:hover label.sk-toggleable__label {background-color: #d4ebff;}#sk-container-id-3 div.sk-serial::before {content: \"\";position: absolute;border-left: 1px solid gray;box-sizing: border-box;top: 0;bottom: 0;left: 50%;z-index: 0;}#sk-container-id-3 div.sk-serial {display: flex;flex-direction: column;align-items: center;background-color: white;padding-right: 0.2em;padding-left: 0.2em;position: relative;}#sk-container-id-3 div.sk-item {position: relative;z-index: 1;}#sk-container-id-3 div.sk-parallel {display: flex;align-items: stretch;justify-content: center;background-color: white;position: relative;}#sk-container-id-3 div.sk-item::before, #sk-container-id-3 div.sk-parallel-item::before {content: \"\";position: absolute;border-left: 1px solid gray;box-sizing: border-box;top: 0;bottom: 0;left: 50%;z-index: -1;}#sk-container-id-3 div.sk-parallel-item {display: flex;flex-direction: column;z-index: 1;position: relative;background-color: white;}#sk-container-id-3 div.sk-parallel-item:first-child::after {align-self: flex-end;width: 50%;}#sk-container-id-3 div.sk-parallel-item:last-child::after {align-self: flex-start;width: 50%;}#sk-container-id-3 div.sk-parallel-item:only-child::after {width: 0;}#sk-container-id-3 div.sk-dashed-wrapped {border: 1px dashed gray;margin: 0 0.4em 0.5em 0.4em;box-sizing: border-box;padding-bottom: 0.4em;background-color: white;}#sk-container-id-3 div.sk-label label {font-family: monospace;font-weight: bold;display: inline-block;line-height: 1.2em;}#sk-container-id-3 div.sk-label-container {text-align: center;}#sk-container-id-3 div.sk-container {/* jupyter's `normalize.less` sets `[hidden] { display: none; }` but bootstrap.min.css set `[hidden] { display: none !important; }` so we also need the `!important` here to be able to override the default hidden behavior on the sphinx rendered scikit-learn.org. See: https://github.com/scikit-learn/scikit-learn/issues/21755 */display: inline-block !important;position: relative;}#sk-container-id-3 div.sk-text-repr-fallback {display: none;}</style><div id=\"sk-container-id-3\" class=\"sk-top-container\"><div class=\"sk-text-repr-fallback\"><pre>SVC(C=1000, decision_function_shape=&#x27;ovo&#x27;, gamma=0.01)</pre><b>In a Jupyter environment, please rerun this cell to show the HTML representation or trust the notebook. <br />On GitHub, the HTML representation is unable to render, please try loading this page with nbviewer.org.</b></div><div class=\"sk-container\" hidden><div class=\"sk-item\"><div class=\"sk-estimator sk-toggleable\"><input class=\"sk-toggleable__control sk-hidden--visually\" id=\"sk-estimator-id-3\" type=\"checkbox\" checked><label for=\"sk-estimator-id-3\" class=\"sk-toggleable__label sk-toggleable__label-arrow\">SVC</label><div class=\"sk-toggleable__content\"><pre>SVC(C=1000, decision_function_shape=&#x27;ovo&#x27;, gamma=0.01)</pre></div></div></div></div></div>"
      ],
      "text/plain": [
       "SVC(C=1000, decision_function_shape='ovo', gamma=0.01)"
      ]
     },
     "execution_count": 77,
     "metadata": {},
     "output_type": "execute_result"
    }
   ],
   "source": [
    "from sklearn import svm\n",
    "\n",
    "clf0 = svm.SVC( kernel=\"rbf\", decision_function_shape=\"ovo\", C=1000, gamma=0.01)\n",
    "clf0.fit(fts.drop('target',axis=1), fts['target'])\n"
   ]
  },
  {
   "cell_type": "markdown",
   "metadata": {},
   "source": [
    "Sequential feature selector to select important features"
   ]
  },
  {
   "cell_type": "code",
   "execution_count": 78,
   "metadata": {},
   "outputs": [],
   "source": [
    "from sklearn.feature_selection import SequentialFeatureSelector\n",
    "\n",
    "features = 5\n",
    "\n",
    "bw = SequentialFeatureSelector(clf0,direction='backward',n_jobs=8,n_features_to_select=features)"
   ]
  },
  {
   "cell_type": "code",
   "execution_count": 79,
   "metadata": {},
   "outputs": [
    {
     "data": {
      "text/html": [
       "<style>#sk-container-id-4 {color: black;background-color: white;}#sk-container-id-4 pre{padding: 0;}#sk-container-id-4 div.sk-toggleable {background-color: white;}#sk-container-id-4 label.sk-toggleable__label {cursor: pointer;display: block;width: 100%;margin-bottom: 0;padding: 0.3em;box-sizing: border-box;text-align: center;}#sk-container-id-4 label.sk-toggleable__label-arrow:before {content: \"▸\";float: left;margin-right: 0.25em;color: #696969;}#sk-container-id-4 label.sk-toggleable__label-arrow:hover:before {color: black;}#sk-container-id-4 div.sk-estimator:hover label.sk-toggleable__label-arrow:before {color: black;}#sk-container-id-4 div.sk-toggleable__content {max-height: 0;max-width: 0;overflow: hidden;text-align: left;background-color: #f0f8ff;}#sk-container-id-4 div.sk-toggleable__content pre {margin: 0.2em;color: black;border-radius: 0.25em;background-color: #f0f8ff;}#sk-container-id-4 input.sk-toggleable__control:checked~div.sk-toggleable__content {max-height: 200px;max-width: 100%;overflow: auto;}#sk-container-id-4 input.sk-toggleable__control:checked~label.sk-toggleable__label-arrow:before {content: \"▾\";}#sk-container-id-4 div.sk-estimator input.sk-toggleable__control:checked~label.sk-toggleable__label {background-color: #d4ebff;}#sk-container-id-4 div.sk-label input.sk-toggleable__control:checked~label.sk-toggleable__label {background-color: #d4ebff;}#sk-container-id-4 input.sk-hidden--visually {border: 0;clip: rect(1px 1px 1px 1px);clip: rect(1px, 1px, 1px, 1px);height: 1px;margin: -1px;overflow: hidden;padding: 0;position: absolute;width: 1px;}#sk-container-id-4 div.sk-estimator {font-family: monospace;background-color: #f0f8ff;border: 1px dotted black;border-radius: 0.25em;box-sizing: border-box;margin-bottom: 0.5em;}#sk-container-id-4 div.sk-estimator:hover {background-color: #d4ebff;}#sk-container-id-4 div.sk-parallel-item::after {content: \"\";width: 100%;border-bottom: 1px solid gray;flex-grow: 1;}#sk-container-id-4 div.sk-label:hover label.sk-toggleable__label {background-color: #d4ebff;}#sk-container-id-4 div.sk-serial::before {content: \"\";position: absolute;border-left: 1px solid gray;box-sizing: border-box;top: 0;bottom: 0;left: 50%;z-index: 0;}#sk-container-id-4 div.sk-serial {display: flex;flex-direction: column;align-items: center;background-color: white;padding-right: 0.2em;padding-left: 0.2em;position: relative;}#sk-container-id-4 div.sk-item {position: relative;z-index: 1;}#sk-container-id-4 div.sk-parallel {display: flex;align-items: stretch;justify-content: center;background-color: white;position: relative;}#sk-container-id-4 div.sk-item::before, #sk-container-id-4 div.sk-parallel-item::before {content: \"\";position: absolute;border-left: 1px solid gray;box-sizing: border-box;top: 0;bottom: 0;left: 50%;z-index: -1;}#sk-container-id-4 div.sk-parallel-item {display: flex;flex-direction: column;z-index: 1;position: relative;background-color: white;}#sk-container-id-4 div.sk-parallel-item:first-child::after {align-self: flex-end;width: 50%;}#sk-container-id-4 div.sk-parallel-item:last-child::after {align-self: flex-start;width: 50%;}#sk-container-id-4 div.sk-parallel-item:only-child::after {width: 0;}#sk-container-id-4 div.sk-dashed-wrapped {border: 1px dashed gray;margin: 0 0.4em 0.5em 0.4em;box-sizing: border-box;padding-bottom: 0.4em;background-color: white;}#sk-container-id-4 div.sk-label label {font-family: monospace;font-weight: bold;display: inline-block;line-height: 1.2em;}#sk-container-id-4 div.sk-label-container {text-align: center;}#sk-container-id-4 div.sk-container {/* jupyter's `normalize.less` sets `[hidden] { display: none; }` but bootstrap.min.css set `[hidden] { display: none !important; }` so we also need the `!important` here to be able to override the default hidden behavior on the sphinx rendered scikit-learn.org. See: https://github.com/scikit-learn/scikit-learn/issues/21755 */display: inline-block !important;position: relative;}#sk-container-id-4 div.sk-text-repr-fallback {display: none;}</style><div id=\"sk-container-id-4\" class=\"sk-top-container\"><div class=\"sk-text-repr-fallback\"><pre>SequentialFeatureSelector(direction=&#x27;backward&#x27;,\n",
       "                          estimator=SVC(C=1000, decision_function_shape=&#x27;ovo&#x27;,\n",
       "                                        gamma=0.01),\n",
       "                          n_features_to_select=6, n_jobs=8)</pre><b>In a Jupyter environment, please rerun this cell to show the HTML representation or trust the notebook. <br />On GitHub, the HTML representation is unable to render, please try loading this page with nbviewer.org.</b></div><div class=\"sk-container\" hidden><div class=\"sk-item sk-dashed-wrapped\"><div class=\"sk-label-container\"><div class=\"sk-label sk-toggleable\"><input class=\"sk-toggleable__control sk-hidden--visually\" id=\"sk-estimator-id-4\" type=\"checkbox\" ><label for=\"sk-estimator-id-4\" class=\"sk-toggleable__label sk-toggleable__label-arrow\">SequentialFeatureSelector</label><div class=\"sk-toggleable__content\"><pre>SequentialFeatureSelector(direction=&#x27;backward&#x27;,\n",
       "                          estimator=SVC(C=1000, decision_function_shape=&#x27;ovo&#x27;,\n",
       "                                        gamma=0.01),\n",
       "                          n_features_to_select=6, n_jobs=8)</pre></div></div></div><div class=\"sk-parallel\"><div class=\"sk-parallel-item\"><div class=\"sk-item\"><div class=\"sk-label-container\"><div class=\"sk-label sk-toggleable\"><input class=\"sk-toggleable__control sk-hidden--visually\" id=\"sk-estimator-id-5\" type=\"checkbox\" ><label for=\"sk-estimator-id-5\" class=\"sk-toggleable__label sk-toggleable__label-arrow\">estimator: SVC</label><div class=\"sk-toggleable__content\"><pre>SVC(C=1000, decision_function_shape=&#x27;ovo&#x27;, gamma=0.01)</pre></div></div></div><div class=\"sk-serial\"><div class=\"sk-item\"><div class=\"sk-estimator sk-toggleable\"><input class=\"sk-toggleable__control sk-hidden--visually\" id=\"sk-estimator-id-6\" type=\"checkbox\" ><label for=\"sk-estimator-id-6\" class=\"sk-toggleable__label sk-toggleable__label-arrow\">SVC</label><div class=\"sk-toggleable__content\"><pre>SVC(C=1000, decision_function_shape=&#x27;ovo&#x27;, gamma=0.01)</pre></div></div></div></div></div></div></div></div></div></div>"
      ],
      "text/plain": [
       "SequentialFeatureSelector(direction='backward',\n",
       "                          estimator=SVC(C=1000, decision_function_shape='ovo',\n",
       "                                        gamma=0.01),\n",
       "                          n_features_to_select=5, n_jobs=8)"
      ]
     },
     "execution_count": 79,
     "metadata": {},
     "output_type": "execute_result"
    }
   ],
   "source": [
    "bw.fit(fts.drop('target',axis=1), fts['target'])  #might take more than 30 seconds"
   ]
  },
  {
   "cell_type": "markdown",
   "metadata": {},
   "source": [
    "Which features are dropped?"
   ]
  },
  {
   "cell_type": "code",
   "execution_count": 80,
   "metadata": {},
   "outputs": [
    {
     "data": {
      "text/plain": [
       "Index(['Pdis', 'Psuc', 'T0', 'Tsh', 'Tsup', 'CondFan', 'CprPower', 'Density',\n",
       "       'Tamb'],\n",
       "      dtype='object')"
      ]
     },
     "execution_count": 80,
     "metadata": {},
     "output_type": "execute_result"
    }
   ],
   "source": [
    "labels = trn.drop('target',axis=1).columns\n",
    "dropped = labels[np.invert(bw.get_support())]\n",
    "dropped"
   ]
  },
  {
   "cell_type": "markdown",
   "metadata": {},
   "source": [
    "How the remaining dataset looks like"
   ]
  },
  {
   "cell_type": "code",
   "execution_count": 81,
   "metadata": {},
   "outputs": [
    {
     "data": {
      "text/html": [
       "<div>\n",
       "<style scoped>\n",
       "    .dataframe tbody tr th:only-of-type {\n",
       "        vertical-align: middle;\n",
       "    }\n",
       "\n",
       "    .dataframe tbody tr th {\n",
       "        vertical-align: top;\n",
       "    }\n",
       "\n",
       "    .dataframe thead th {\n",
       "        text-align: right;\n",
       "    }\n",
       "</style>\n",
       "<table border=\"1\" class=\"dataframe\">\n",
       "  <thead>\n",
       "    <tr style=\"text-align: right;\">\n",
       "      <th></th>\n",
       "      <th>Tc</th>\n",
       "      <th>Tdis</th>\n",
       "      <th>Tret</th>\n",
       "      <th>Tsuc</th>\n",
       "      <th>Tset</th>\n",
       "      <th>target</th>\n",
       "    </tr>\n",
       "  </thead>\n",
       "  <tbody>\n",
       "    <tr>\n",
       "      <th>0</th>\n",
       "      <td>-1.072921</td>\n",
       "      <td>-0.352162</td>\n",
       "      <td>-0.933854</td>\n",
       "      <td>-0.976516</td>\n",
       "      <td>-0.466804</td>\n",
       "      <td>-1.286824</td>\n",
       "      <td>0</td>\n",
       "    </tr>\n",
       "    <tr>\n",
       "      <th>1</th>\n",
       "      <td>-1.072354</td>\n",
       "      <td>-0.351494</td>\n",
       "      <td>-0.933740</td>\n",
       "      <td>-0.976473</td>\n",
       "      <td>-0.467020</td>\n",
       "      <td>-1.286824</td>\n",
       "      <td>0</td>\n",
       "    </tr>\n",
       "    <tr>\n",
       "      <th>2</th>\n",
       "      <td>-1.073034</td>\n",
       "      <td>-0.352289</td>\n",
       "      <td>-0.933880</td>\n",
       "      <td>-0.976529</td>\n",
       "      <td>-0.466765</td>\n",
       "      <td>-1.286824</td>\n",
       "      <td>0</td>\n",
       "    </tr>\n",
       "    <tr>\n",
       "      <th>3</th>\n",
       "      <td>-1.073213</td>\n",
       "      <td>-0.352488</td>\n",
       "      <td>-0.933923</td>\n",
       "      <td>-0.976551</td>\n",
       "      <td>-0.466706</td>\n",
       "      <td>-1.286824</td>\n",
       "      <td>0</td>\n",
       "    </tr>\n",
       "    <tr>\n",
       "      <th>4</th>\n",
       "      <td>-1.073494</td>\n",
       "      <td>-0.352792</td>\n",
       "      <td>-0.933994</td>\n",
       "      <td>-0.976591</td>\n",
       "      <td>-0.466617</td>\n",
       "      <td>-1.286824</td>\n",
       "      <td>0</td>\n",
       "    </tr>\n",
       "    <tr>\n",
       "      <th>...</th>\n",
       "      <td>...</td>\n",
       "      <td>...</td>\n",
       "      <td>...</td>\n",
       "      <td>...</td>\n",
       "      <td>...</td>\n",
       "      <td>...</td>\n",
       "    </tr>\n",
       "    <tr>\n",
       "      <th>37795</th>\n",
       "      <td>3.613831</td>\n",
       "      <td>1.764683</td>\n",
       "      <td>0.381933</td>\n",
       "      <td>0.458137</td>\n",
       "      <td>-0.076163</td>\n",
       "      <td>1.151368</td>\n",
       "      <td>20</td>\n",
       "    </tr>\n",
       "    <tr>\n",
       "      <th>37796</th>\n",
       "      <td>3.614030</td>\n",
       "      <td>1.764905</td>\n",
       "      <td>0.381914</td>\n",
       "      <td>0.458115</td>\n",
       "      <td>-0.076269</td>\n",
       "      <td>1.151368</td>\n",
       "      <td>20</td>\n",
       "    </tr>\n",
       "    <tr>\n",
       "      <th>37797</th>\n",
       "      <td>3.613967</td>\n",
       "      <td>1.764835</td>\n",
       "      <td>0.381920</td>\n",
       "      <td>0.458122</td>\n",
       "      <td>-0.076235</td>\n",
       "      <td>1.151368</td>\n",
       "      <td>20</td>\n",
       "    </tr>\n",
       "    <tr>\n",
       "      <th>37798</th>\n",
       "      <td>3.614725</td>\n",
       "      <td>1.765666</td>\n",
       "      <td>0.381856</td>\n",
       "      <td>0.458050</td>\n",
       "      <td>-0.076620</td>\n",
       "      <td>1.151368</td>\n",
       "      <td>20</td>\n",
       "    </tr>\n",
       "    <tr>\n",
       "      <th>37799</th>\n",
       "      <td>3.615031</td>\n",
       "      <td>1.765993</td>\n",
       "      <td>0.381835</td>\n",
       "      <td>0.458026</td>\n",
       "      <td>-0.076767</td>\n",
       "      <td>1.151368</td>\n",
       "      <td>20</td>\n",
       "    </tr>\n",
       "  </tbody>\n",
       "</table>\n",
       "<p>34200 rows × 7 columns</p>\n",
       "</div>"
      ],
      "text/plain": [
       "             Tc      Tdis      Tret      Tsuc   Density      Tset  target\n",
       "0     -1.072921 -0.352162 -0.933854 -0.976516 -0.466804 -1.286824       0\n",
       "1     -1.072354 -0.351494 -0.933740 -0.976473 -0.467020 -1.286824       0\n",
       "2     -1.073034 -0.352289 -0.933880 -0.976529 -0.466765 -1.286824       0\n",
       "3     -1.073213 -0.352488 -0.933923 -0.976551 -0.466706 -1.286824       0\n",
       "4     -1.073494 -0.352792 -0.933994 -0.976591 -0.466617 -1.286824       0\n",
       "...         ...       ...       ...       ...       ...       ...     ...\n",
       "37795  3.613831  1.764683  0.381933  0.458137 -0.076163  1.151368      20\n",
       "37796  3.614030  1.764905  0.381914  0.458115 -0.076269  1.151368      20\n",
       "37797  3.613967  1.764835  0.381920  0.458122 -0.076235  1.151368      20\n",
       "37798  3.614725  1.765666  0.381856  0.458050 -0.076620  1.151368      20\n",
       "37799  3.615031  1.765993  0.381835  0.458026 -0.076767  1.151368      20\n",
       "\n",
       "[34200 rows x 7 columns]"
      ]
     },
     "execution_count": 81,
     "metadata": {},
     "output_type": "execute_result"
    }
   ],
   "source": [
    "trn_reduced = trn.drop(dropped,axis=1)\n",
    "tst_reduced = tst.drop(dropped,axis=1)\n",
    "val_reduced = val.drop(dropped,axis=1)\n",
    "trn_reduced"
   ]
  },
  {
   "cell_type": "markdown",
   "metadata": {},
   "source": [
    "Training a full classifier on more datapoint with the features dropped"
   ]
  },
  {
   "cell_type": "code",
   "execution_count": 82,
   "metadata": {},
   "outputs": [
    {
     "data": {
      "text/html": [
       "<style>#sk-container-id-5 {color: black;background-color: white;}#sk-container-id-5 pre{padding: 0;}#sk-container-id-5 div.sk-toggleable {background-color: white;}#sk-container-id-5 label.sk-toggleable__label {cursor: pointer;display: block;width: 100%;margin-bottom: 0;padding: 0.3em;box-sizing: border-box;text-align: center;}#sk-container-id-5 label.sk-toggleable__label-arrow:before {content: \"▸\";float: left;margin-right: 0.25em;color: #696969;}#sk-container-id-5 label.sk-toggleable__label-arrow:hover:before {color: black;}#sk-container-id-5 div.sk-estimator:hover label.sk-toggleable__label-arrow:before {color: black;}#sk-container-id-5 div.sk-toggleable__content {max-height: 0;max-width: 0;overflow: hidden;text-align: left;background-color: #f0f8ff;}#sk-container-id-5 div.sk-toggleable__content pre {margin: 0.2em;color: black;border-radius: 0.25em;background-color: #f0f8ff;}#sk-container-id-5 input.sk-toggleable__control:checked~div.sk-toggleable__content {max-height: 200px;max-width: 100%;overflow: auto;}#sk-container-id-5 input.sk-toggleable__control:checked~label.sk-toggleable__label-arrow:before {content: \"▾\";}#sk-container-id-5 div.sk-estimator input.sk-toggleable__control:checked~label.sk-toggleable__label {background-color: #d4ebff;}#sk-container-id-5 div.sk-label input.sk-toggleable__control:checked~label.sk-toggleable__label {background-color: #d4ebff;}#sk-container-id-5 input.sk-hidden--visually {border: 0;clip: rect(1px 1px 1px 1px);clip: rect(1px, 1px, 1px, 1px);height: 1px;margin: -1px;overflow: hidden;padding: 0;position: absolute;width: 1px;}#sk-container-id-5 div.sk-estimator {font-family: monospace;background-color: #f0f8ff;border: 1px dotted black;border-radius: 0.25em;box-sizing: border-box;margin-bottom: 0.5em;}#sk-container-id-5 div.sk-estimator:hover {background-color: #d4ebff;}#sk-container-id-5 div.sk-parallel-item::after {content: \"\";width: 100%;border-bottom: 1px solid gray;flex-grow: 1;}#sk-container-id-5 div.sk-label:hover label.sk-toggleable__label {background-color: #d4ebff;}#sk-container-id-5 div.sk-serial::before {content: \"\";position: absolute;border-left: 1px solid gray;box-sizing: border-box;top: 0;bottom: 0;left: 50%;z-index: 0;}#sk-container-id-5 div.sk-serial {display: flex;flex-direction: column;align-items: center;background-color: white;padding-right: 0.2em;padding-left: 0.2em;position: relative;}#sk-container-id-5 div.sk-item {position: relative;z-index: 1;}#sk-container-id-5 div.sk-parallel {display: flex;align-items: stretch;justify-content: center;background-color: white;position: relative;}#sk-container-id-5 div.sk-item::before, #sk-container-id-5 div.sk-parallel-item::before {content: \"\";position: absolute;border-left: 1px solid gray;box-sizing: border-box;top: 0;bottom: 0;left: 50%;z-index: -1;}#sk-container-id-5 div.sk-parallel-item {display: flex;flex-direction: column;z-index: 1;position: relative;background-color: white;}#sk-container-id-5 div.sk-parallel-item:first-child::after {align-self: flex-end;width: 50%;}#sk-container-id-5 div.sk-parallel-item:last-child::after {align-self: flex-start;width: 50%;}#sk-container-id-5 div.sk-parallel-item:only-child::after {width: 0;}#sk-container-id-5 div.sk-dashed-wrapped {border: 1px dashed gray;margin: 0 0.4em 0.5em 0.4em;box-sizing: border-box;padding-bottom: 0.4em;background-color: white;}#sk-container-id-5 div.sk-label label {font-family: monospace;font-weight: bold;display: inline-block;line-height: 1.2em;}#sk-container-id-5 div.sk-label-container {text-align: center;}#sk-container-id-5 div.sk-container {/* jupyter's `normalize.less` sets `[hidden] { display: none; }` but bootstrap.min.css set `[hidden] { display: none !important; }` so we also need the `!important` here to be able to override the default hidden behavior on the sphinx rendered scikit-learn.org. See: https://github.com/scikit-learn/scikit-learn/issues/21755 */display: inline-block !important;position: relative;}#sk-container-id-5 div.sk-text-repr-fallback {display: none;}</style><div id=\"sk-container-id-5\" class=\"sk-top-container\"><div class=\"sk-text-repr-fallback\"><pre>SVC(C=1000, decision_function_shape=&#x27;ovo&#x27;, gamma=0.01)</pre><b>In a Jupyter environment, please rerun this cell to show the HTML representation or trust the notebook. <br />On GitHub, the HTML representation is unable to render, please try loading this page with nbviewer.org.</b></div><div class=\"sk-container\" hidden><div class=\"sk-item\"><div class=\"sk-estimator sk-toggleable\"><input class=\"sk-toggleable__control sk-hidden--visually\" id=\"sk-estimator-id-7\" type=\"checkbox\" checked><label for=\"sk-estimator-id-7\" class=\"sk-toggleable__label sk-toggleable__label-arrow\">SVC</label><div class=\"sk-toggleable__content\"><pre>SVC(C=1000, decision_function_shape=&#x27;ovo&#x27;, gamma=0.01)</pre></div></div></div></div></div>"
      ],
      "text/plain": [
       "SVC(C=1000, decision_function_shape='ovo', gamma=0.01)"
      ]
     },
     "execution_count": 82,
     "metadata": {},
     "output_type": "execute_result"
    }
   ],
   "source": [
    "clf = svm.SVC( kernel=\"rbf\", decision_function_shape=\"ovo\", C=1000, gamma=0.01)\n",
    "clf.fit(trn_reduced.drop('target',axis=1), trn_reduced['target'])"
   ]
  },
  {
   "cell_type": "code",
   "execution_count": 83,
   "metadata": {},
   "outputs": [
    {
     "name": "stdout",
     "output_type": "stream",
     "text": [
      "[ 0  0  0 ... 20 20 20]\n",
      "[ 0  0  0 ... 20 20 20]\n"
     ]
    }
   ],
   "source": [
    "#predicting\n",
    "predict = clf.predict(trn_reduced.drop('target',axis=1))\n",
    "\n",
    "print(trn_reduced['target'].to_numpy())\n",
    "print(predict)"
   ]
  },
  {
   "cell_type": "code",
   "execution_count": 84,
   "metadata": {},
   "outputs": [
    {
     "name": "stderr",
     "output_type": "stream",
     "text": [
      "c:\\Users\\klepa\\OneDrive\\Dokumentumok\\AAU\\Project\\p7-ml-refrigeration-fault-detection\\Python\\confusion_matrix.py:25: RuntimeWarning: invalid value encountered in true_divide\n",
      "  axs.imshow(np.sqrt(conf_matrix/np.outer(conf_matrix.sum(axis=1),np.ones(width))),cmap=\"Greens\")\n"
     ]
    },
    {
     "data": {
      "image/png": "[encoded data removed]",
      "text/plain": [
       "<Figure size 720x720 with 1 Axes>"
      ]
     },
     "metadata": {
      "needs_background": "light"
     },
     "output_type": "display_data"
    }
   ],
   "source": [
    "conf_matrix = np.zeros([21, 21])\n",
    "\n",
    "for x,y in zip(predict,trn_reduced['target']):\n",
    "    conf_matrix[int(y)][int(x)] +=1\n",
    "\n",
    "#     #Generate confusion matrix pdf\n",
    "confusion_matrix.confusion_matrix(conf_matrix, figsize = (10,10), title = f'SVM on training data with {features} features',eval_labels = False)\n",
    "pass"
   ]
  },
  {
   "cell_type": "code",
   "execution_count": 85,
   "metadata": {},
   "outputs": [
    {
     "name": "stdout",
     "output_type": "stream",
     "text": [
      "[ 0  0  0 ... 20 20 20]\n",
      "[ 0  0  0 ... 20 20 20]\n"
     ]
    }
   ],
   "source": [
    "#predicting\n",
    "predict_val = clf.predict(val_reduced.drop('target',axis=1))\n",
    "\n",
    "print(val_reduced['target'].to_numpy())\n",
    "print(predict_val)"
   ]
  },
  {
   "cell_type": "code",
   "execution_count": 86,
   "metadata": {},
   "outputs": [
    {
     "name": "stderr",
     "output_type": "stream",
     "text": [
      "c:\\Users\\klepa\\OneDrive\\Dokumentumok\\AAU\\Project\\p7-ml-refrigeration-fault-detection\\Python\\confusion_matrix.py:25: RuntimeWarning: invalid value encountered in true_divide\n",
      "  axs.imshow(np.sqrt(conf_matrix/np.outer(conf_matrix.sum(axis=1),np.ones(width))),cmap=\"Greens\")\n"
     ]
    },
    {
     "data": {
      "image/png": "[encoded data removed]",
      "text/plain": [
       "<Figure size 720x720 with 1 Axes>"
      ]
     },
     "metadata": {
      "needs_background": "light"
     },
     "output_type": "display_data"
    }
   ],
   "source": [
    "conf_matrix = np.zeros([21, 21])\n",
    "\n",
    "for x,y in zip(predict_val,val_reduced['target']):\n",
    "    conf_matrix[int(y)][int(x)] +=1\n",
    "\n",
    "    #Generate confusion matrix pdf\n",
    "confusion_matrix.confusion_matrix(conf_matrix, figsize = (10,10), title = f'SVM on validation data with {features} features',eval_labels = False,save_fig_name='PDF/SVM validation with all features.pdf')\n",
    "pass"
   ]
  },
  {
   "cell_type": "code",
   "execution_count": 87,
   "metadata": {},
   "outputs": [
    {
     "name": "stdout",
     "output_type": "stream",
     "text": [
      "[ 0  0  0 ... 20 20 20]\n",
      "[ 0  0  0 ... 20 20 20]\n"
     ]
    }
   ],
   "source": [
    "#predicting\n",
    "predict_tst = clf.predict(tst_reduced.drop('target',axis=1))\n",
    "\n",
    "print(val_reduced['target'].to_numpy())\n",
    "print(predict_tst)"
   ]
  },
  {
   "cell_type": "code",
   "execution_count": 88,
   "metadata": {},
   "outputs": [
    {
     "name": "stderr",
     "output_type": "stream",
     "text": [
      "c:\\Users\\klepa\\OneDrive\\Dokumentumok\\AAU\\Project\\p7-ml-refrigeration-fault-detection\\Python\\confusion_matrix.py:25: RuntimeWarning: invalid value encountered in true_divide\n",
      "  axs.imshow(np.sqrt(conf_matrix/np.outer(conf_matrix.sum(axis=1),np.ones(width))),cmap=\"Greens\")\n"
     ]
    },
    {
     "data": {
      "image/png": "[encoded data removed]",
      "text/plain": [
       "<Figure size 720x720 with 1 Axes>"
      ]
     },
     "metadata": {
      "needs_background": "light"
     },
     "output_type": "display_data"
    }
   ],
   "source": [
    "conf_matrix = np.zeros([21, 21])\n",
    "\n",
    "for x,y in zip(predict_tst,tst_reduced['target']):\n",
    "    conf_matrix[int(y)][int(x)] +=1\n",
    "\n",
    "    #Generate confusion matrix pdf\n",
    "confusion_matrix.confusion_matrix(conf_matrix, figsize = (10,10), title = f'Test data with {features} features',eval_labels = False, save_fig_name='PDF/SVM test with all features.pdf')\n",
    "pass"
   ]
  },
  {
   "cell_type": "markdown",
   "metadata": {},
   "source": [
    "# Extra:<br>\n",
    "plot accuracies against the number of features (takes some time)"
   ]
  },
  {
   "cell_type": "code",
   "execution_count": 22,
   "metadata": {},
   "outputs": [
    {
     "name": "stdout",
     "output_type": "stream",
     "text": [
      "2\n",
      "val:0.31415343915343913 test:0.26\n",
      "3\n",
      "val:0.5491005291005291 test:0.3742857142857143\n",
      "4\n",
      "val:0.6314285714285715 test:0.47619047619047616\n",
      "5\n",
      "val:0.8518518518518519 test:0.6190476190476191\n",
      "6\n",
      "val:0.8823280423280423 test:0.7619047619047619\n",
      "7\n",
      "val:0.9044708994708994 test:0.8571428571428571\n",
      "8\n",
      "val:0.9063227513227513 test:0.8571428571428571\n",
      "9\n",
      "val:0.9062962962962963 test:0.8571428571428571\n",
      "10\n",
      "val:0.9087830687830688 test:0.8571428571428571\n",
      "11\n",
      "val:0.9060317460317461 test:0.8571428571428571\n",
      "12\n",
      "val:0.9082010582010582 test:0.8571428571428571\n",
      "13\n",
      "val:0.9061111111111111 test:0.8571428571428571\n"
     ]
    },
    {
     "data": {
      "text/html": [
       "<div>\n",
       "<style scoped>\n",
       "    .dataframe tbody tr th:only-of-type {\n",
       "        vertical-align: middle;\n",
       "    }\n",
       "\n",
       "    .dataframe tbody tr th {\n",
       "        vertical-align: top;\n",
       "    }\n",
       "\n",
       "    .dataframe thead th {\n",
       "        text-align: right;\n",
       "    }\n",
       "</style>\n",
       "<table border=\"1\" class=\"dataframe\">\n",
       "  <thead>\n",
       "    <tr style=\"text-align: right;\">\n",
       "      <th></th>\n",
       "      <th>n_features</th>\n",
       "      <th>val</th>\n",
       "      <th>tst</th>\n",
       "    </tr>\n",
       "  </thead>\n",
       "  <tbody>\n",
       "    <tr>\n",
       "      <th>0</th>\n",
       "      <td>2.0</td>\n",
       "      <td>0.314153</td>\n",
       "      <td>0.260000</td>\n",
       "    </tr>\n",
       "    <tr>\n",
       "      <th>1</th>\n",
       "      <td>3.0</td>\n",
       "      <td>0.549101</td>\n",
       "      <td>0.374286</td>\n",
       "    </tr>\n",
       "    <tr>\n",
       "      <th>2</th>\n",
       "      <td>4.0</td>\n",
       "      <td>0.631429</td>\n",
       "      <td>0.476190</td>\n",
       "    </tr>\n",
       "    <tr>\n",
       "      <th>3</th>\n",
       "      <td>5.0</td>\n",
       "      <td>0.851852</td>\n",
       "      <td>0.619048</td>\n",
       "    </tr>\n",
       "    <tr>\n",
       "      <th>4</th>\n",
       "      <td>6.0</td>\n",
       "      <td>0.882328</td>\n",
       "      <td>0.761905</td>\n",
       "    </tr>\n",
       "    <tr>\n",
       "      <th>5</th>\n",
       "      <td>7.0</td>\n",
       "      <td>0.904471</td>\n",
       "      <td>0.857143</td>\n",
       "    </tr>\n",
       "    <tr>\n",
       "      <th>6</th>\n",
       "      <td>8.0</td>\n",
       "      <td>0.906323</td>\n",
       "      <td>0.857143</td>\n",
       "    </tr>\n",
       "    <tr>\n",
       "      <th>7</th>\n",
       "      <td>9.0</td>\n",
       "      <td>0.906296</td>\n",
       "      <td>0.857143</td>\n",
       "    </tr>\n",
       "    <tr>\n",
       "      <th>8</th>\n",
       "      <td>10.0</td>\n",
       "      <td>0.908783</td>\n",
       "      <td>0.857143</td>\n",
       "    </tr>\n",
       "    <tr>\n",
       "      <th>9</th>\n",
       "      <td>11.0</td>\n",
       "      <td>0.906032</td>\n",
       "      <td>0.857143</td>\n",
       "    </tr>\n",
       "    <tr>\n",
       "      <th>10</th>\n",
       "      <td>12.0</td>\n",
       "      <td>0.908201</td>\n",
       "      <td>0.857143</td>\n",
       "    </tr>\n",
       "    <tr>\n",
       "      <th>11</th>\n",
       "      <td>13.0</td>\n",
       "      <td>0.906111</td>\n",
       "      <td>0.857143</td>\n",
       "    </tr>\n",
       "  </tbody>\n",
       "</table>\n",
       "</div>"
      ],
      "text/plain": [
       "    n_features       val       tst\n",
       "0          2.0  0.314153  0.260000\n",
       "1          3.0  0.549101  0.374286\n",
       "2          4.0  0.631429  0.476190\n",
       "3          5.0  0.851852  0.619048\n",
       "4          6.0  0.882328  0.761905\n",
       "5          7.0  0.904471  0.857143\n",
       "6          8.0  0.906323  0.857143\n",
       "7          9.0  0.906296  0.857143\n",
       "8         10.0  0.908783  0.857143\n",
       "9         11.0  0.906032  0.857143\n",
       "10        12.0  0.908201  0.857143\n",
       "11        13.0  0.906111  0.857143"
      ]
     },
     "execution_count": 22,
     "metadata": {},
     "output_type": "execute_result"
    }
   ],
   "source": [
    "Run_now = True #Run feature selection or load previous results\n",
    "\n",
    "CSV_path = 'forward_reduction.csv'\n",
    "\n",
    "from os.path import exists\n",
    "exist = exists(CSV_path)\n",
    "\n",
    "if Run_now or not exist:\n",
    "    from sklearn.feature_selection import SequentialFeatureSelector\n",
    "    accuracies_forw = pd.DataFrame({'n_features':[],'val':[],'tst':[]}) #init dataframe\n",
    "    for i in range(2,14):\n",
    "        bw = SequentialFeatureSelector(clf0,direction='forward',n_jobs=10,n_features_to_select=i) \n",
    "        bw.fit(fts.drop('target',axis=1), fts['target'])\n",
    "        print(f\"{i} features\")\n",
    "        labels = trn.drop('target',axis=1).columns\n",
    "        dropped = labels[np.invert(bw.get_support())]\n",
    "\n",
    "        trn_reduced = trn.drop(dropped,axis=1)\n",
    "        tst_reduced = tst.drop(dropped,axis=1)\n",
    "        val_reduced = val.drop(dropped,axis=1)\n",
    "\n",
    "        clf = svm.SVC( kernel=\"rbf\", decision_function_shape=\"ovo\", C=1000, gamma=0.01)\n",
    "        clf.fit(trn_reduced.drop('target',axis=1), trn_reduced['target'])\n",
    "\n",
    "        val_score = clf.score(val_reduced.drop('target',axis=1),val_reduced['target'])\n",
    "        test_score = clf.score(tst_reduced.drop('target',axis=1),tst_reduced['target'])\n",
    "        print(f\"val:{val_score} test:{test_score}\")\n",
    "        accuracies_forw = accuracies_forw.append({'n_features':i,'val':val_score,'tst':test_score},ignore_index=True)\n",
    "\n",
    "    accuracies_forw.to_csv(CSV_path)\n",
    "\n",
    "else:\n",
    "    accuracies_forw = pd.read_csv(CSV_path)\n",
    "\n",
    "accuracies_forw"
   ]
  },
  {
   "cell_type": "code",
   "execution_count": 72,
   "metadata": {},
   "outputs": [],
   "source": [
    "Run_now = True #Run feature selection or load previous results\n",
    "\n",
    "CSV_path = 'backward_reduction.csv'\n",
    "\n",
    "from os.path import exists\n",
    "exist = exists(CSV_path)\n",
    "\n",
    "if Run_now or not exist:\n",
    "    from sklearn.feature_selection import SequentialFeatureSelector\n",
    "    accuracies_backw = pd.DataFrame({'n_features':[],'val':[],'tst':[]}) #init dataframe\n",
    "    for i in range(2,14):\n",
    "        bw = SequentialFeatureSelector(clf0,direction='backward',n_jobs=10,n_features_to_select=i) \n",
    "        bw.fit(fts.drop('target',axis=1), fts['target'])\n",
    "        print(f\"{i} features\")\n",
    "        labels = trn.drop('target',axis=1).columns\n",
    "        dropped = labels[np.invert(bw.get_support())]\n",
    "\n",
    "        trn_reduced = trn.drop(dropped,axis=1)\n",
    "        tst_reduced = tst.drop(dropped,axis=1)\n",
    "        val_reduced = val.drop(dropped,axis=1)\n",
    "\n",
    "        clf = svm.SVC( kernel=\"rbf\", decision_function_shape=\"ovo\", C=1000, gamma=0.01)\n",
    "        clf.fit(trn_reduced.drop('target',axis=1), trn_reduced['target'])\n",
    "\n",
    "        val_score = clf.score(val_reduced.drop('target',axis=1),val_reduced['target'])\n",
    "        test_score = clf.score(tst_reduced.drop('target',axis=1),tst_reduced['target'])\n",
    "        print(f\"val:{val_score} test:{test_score}\")\n",
    "        accuracies_backw = accuracies_backw.append({'n_features':i,'val':val_score,'tst':test_score},ignore_index=True)\n",
    "    accuracies_backw.to_csv(CSV_path)\n",
    "\n",
    "else:\n",
    "    accuracies_backw = pd.read_csv(CSV_path)\n",
    "\n",
    "accuracies_backw"
   ]
  },
  {
   "cell_type": "code",
   "execution_count": 71,
   "metadata": {},
   "outputs": [
    {
     "data": {
      "image/png": "[encoded data removed]",
      "text/plain": [
       "<Figure size 432x288 with 1 Axes>"
      ]
     },
     "metadata": {
      "needs_background": "light"
     },
     "output_type": "display_data"
    }
   ],
   "source": [
    "import matplotlib\n",
    "col = matplotlib.colormaps['tab20']\n",
    "\n",
    "plt.figure(figsize=(6,4)) #(6,4) good size for the report\n",
    "plt.plot(accuracies_forw['n_features'],accuracies_forw['val'],c=col.colors[0])\n",
    "plt.plot(accuracies_forw['n_features'],accuracies_forw['tst'],c=col.colors[1])\n",
    "\n",
    "\n",
    "plt.plot(accuracies_backw['n_features'],accuracies_backw['val'],c=col.colors[6])\n",
    "plt.plot(accuracies_backw['n_features'],accuracies_backw['tst'],c=col.colors[7])\n",
    "\n",
    "plt.ylabel('accuracy')\n",
    "plt.xlabel('Number of features')\n",
    "plt.title('SVM sequential feature selection')\n",
    "plt.legend(['forw val','forw tst','backw val','backw tst'])\n",
    "plt.grid(True)\n",
    "plt.xticks(range(2,14))\n",
    "\n",
    "plt.savefig('PDF/Feature Selection.pdf')"
   ]
  },
  {
   "cell_type": "markdown",
   "metadata": {},
   "source": [
    "### Observation:\n",
    "using 5-6 features, the svm classifier successfully classifies the faults. further increasing the features does not yield higher classification accuracy.<br>"
   ]
  }
 ],
 "metadata": {
  "kernelspec": {
   "display_name": "Python 3.9.7 64-bit",
   "language": "python",
   "name": "python3"
  },
  "language_info": {
   "codemirror_mode": {
    "name": "ipython",
    "version": 3
   },
   "file_extension": ".py",
   "mimetype": "text/x-python",
   "name": "python",
   "nbconvert_exporter": "python",
   "pygments_lexer": "ipython3",
   "version": "3.9.7"
  },
  "orig_nbformat": 4,
  "vscode": {
   "interpreter": {
    "hash": "f15fea1a2a4c1b2bd3448f51c7a571354ea9fdd72ce8dc19376e1dc8b22066ba"
   }
  }
 },
 "nbformat": 4,
 "nbformat_minor": 2
}

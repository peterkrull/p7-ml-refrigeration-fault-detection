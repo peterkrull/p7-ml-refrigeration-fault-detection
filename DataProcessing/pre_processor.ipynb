{
 "cells": [
  {
   "cell_type": "code",
   "execution_count": 2,
   "metadata": {},
   "outputs": [],
   "source": [
    "import pandas as pd\n",
    "import numpy as np\n",
    "import json\n",
    "import os"
   ]
  },
  {
   "cell_type": "markdown",
   "metadata": {},
   "source": [
    "# Config"
   ]
  },
  {
   "cell_type": "code",
   "execution_count": 3,
   "metadata": {},
   "outputs": [],
   "source": [
    "# Lock random seed\n",
    "np.random.seed(1)\n",
    "\n",
    "# File path for noise descriptor\n",
    "noise_file = \"../Python/noise_description.json\"\n",
    "\n",
    "# Configuration for training data\n",
    "training_samples = 67\n",
    "training_file = \"../TrainingData/neodata/fault_all_1000.csv\"\n",
    "\n",
    "# Configuration for validation data\n",
    "validation_samples = 67\n",
    "validation_file = \"../TrainingData/neodata/fault_all_1000.csv\"\n",
    "\n",
    "# Configuration for validation data\n",
    "test_samples = 67\n",
    "test_file = \"../TestData/neodata/fault_all_1000.csv\"\n",
    "\n",
    "# Features to pop from all data sets\n",
    "features_for_removal = ['Psuc','CprPower','Density']"
   ]
  },
  {
   "cell_type": "markdown",
   "metadata": {},
   "source": [
    "----\n",
    "# Add noise and sample training and validation data"
   ]
  },
  {
   "cell_type": "code",
   "execution_count": 4,
   "metadata": {},
   "outputs": [],
   "source": [
    "# Extract training data\n",
    "# Loop through all files\n",
    "\n",
    "# Lock random seed\n",
    "np.random.seed(1)\n",
    "\n",
    "# Load data and noise description\n",
    "all_data = pd.read_csv(training_file)\n",
    "with open(noise_file) as file: noise_desc = json.load(file)\n",
    "\n",
    "# For each noise descriptor, add noise accordingly\n",
    "for feature in noise_desc:\n",
    "    if noise_desc[feature]['var'] > 0:\n",
    "        noise = np.random.normal(noise_desc[feature]['mean'],noise_desc[feature]['var'],(len(all_data)))\n",
    "        all_data[feature] += noise\n",
    "\n",
    "for feature in features_for_removal:\n",
    "    all_data.pop(feature)\n",
    "\n",
    "length = int(len(all_data[all_data['target'] == 0])/18)\n",
    "\n",
    "# Sample noisy data and concatenate it\n",
    "for_export_train = None\n",
    "for_export_valid = None\n",
    "for f in range(21): # Loop over classes\n",
    "    for i in range(18): # Loop over setpoints\n",
    "        fault_data = all_data[all_data['target'] == f][length*i : length*(i+1)]\n",
    "        samples = fault_data.sample(training_samples + validation_samples,random_state=1)\n",
    "        for_export_train = pd.concat( [for_export_train, samples[0:training_samples] ] )\n",
    "        for_export_valid = pd.concat( [for_export_valid, samples[training_samples:training_samples + validation_samples] ] )\n",
    "\n",
    "# Export training data\n",
    "try:\n",
    "    for_export_train.to_csv(f\"./../TrainingData/neodata/fault_all_noise_{training_samples}.csv\", index=None,header=True)\n",
    "except OSError:\n",
    "    os.mkdir(f\"./../TrainingData/neodata/\")\n",
    "    for_export_train.to_csv(f\"./../TrainingData/neodata/fault_all_noise_{training_samples}.csv\", index=None,header=True)\n",
    "    \n",
    "# Export validation data\n",
    "try:\n",
    "    for_export_valid.to_csv(f\"./../ValidationData/neodata/fault_all_noise_{validation_samples}.csv\", index=None,header=True)\n",
    "except OSError:\n",
    "    os.mkdir(f\"./../ValidationData/neodata/\")\n",
    "    for_export_valid.to_csv(f\"./../ValidationData/neodata/fault_all_noise_{validation_samples}.csv\", index=None,header=True)"
   ]
  },
  {
   "cell_type": "markdown",
   "metadata": {},
   "source": [
    "----\n",
    "# Add noise and sample test data"
   ]
  },
  {
   "cell_type": "code",
   "execution_count": 6,
   "metadata": {},
   "outputs": [],
   "source": [
    "# Extract training data\n",
    "# Loop through all files\n",
    "\n",
    "# Lock random seed\n",
    "np.random.seed(1)\n",
    "\n",
    "# Load data and noise description\n",
    "all_data = pd.read_csv(test_file)\n",
    "with open(noise_file) as file: noise_desc = json.load(file)\n",
    "\n",
    "# For each noise descriptor, add noise accordingly\n",
    "for feature in noise_desc:\n",
    "    if noise_desc[feature]['var'] > 0:\n",
    "        noise = np.random.normal(noise_desc[feature]['mean'],noise_desc[feature]['var'],(len(all_data)))\n",
    "        all_data[feature] += noise\n",
    "\n",
    "for feature in features_for_removal:\n",
    "    all_data.pop(feature)\n",
    "\n",
    "length = int(len(all_data[all_data['target'] == 0])/18)\n",
    "\n",
    "# Sample noisy data and concatenate it\n",
    "for_export = pd.concat( [all_data[all_data['target'] == f].sample(test_samples) for f in range(21) ] )\n",
    "\n",
    "# Export data\n",
    "try:\n",
    "    for_export.to_csv(f\"./../TestData/neodata/fault_all_noise_{test_samples}.csv\", index=None,header=True)\n",
    "except OSError:\n",
    "    os.mkdir(f\"./../TestData/neodata/\")\n",
    "    for_export.to_csv(f\"./../TestData/neodata/fault_all_noise_{test_samples}.csv\", index=None,header=True)"
   ]
  }
 ],
 "metadata": {
  "kernelspec": {
   "display_name": "Python 3.10.7 64-bit",
   "language": "python",
   "name": "python3"
  },
  "language_info": {
   "codemirror_mode": {
    "name": "ipython",
    "version": 3
   },
   "file_extension": ".py",
   "mimetype": "text/x-python",
   "name": "python",
   "nbconvert_exporter": "python",
   "pygments_lexer": "ipython3",
   "version": "3.10.7"
  },
  "orig_nbformat": 4,
  "vscode": {
   "interpreter": {
    "hash": "e7370f93d1d0cde622a1f8e1c04877d8463912d04d973331ad4851f04de6915a"
   }
  }
 },
 "nbformat": 4,
 "nbformat_minor": 2
}

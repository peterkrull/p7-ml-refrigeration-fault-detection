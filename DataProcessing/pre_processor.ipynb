{
 "cells": [
  {
   "cell_type": "code",
   "execution_count": 53,
   "metadata": {},
   "outputs": [],
   "source": [
    "import pandas as pd\n",
    "import numpy as np\n",
    "import json\n",
    "import os"
   ]
  },
  {
   "cell_type": "markdown",
   "metadata": {},
   "source": [
    "# Config"
   ]
  },
  {
   "cell_type": "code",
   "execution_count": 54,
   "metadata": {},
   "outputs": [],
   "source": [
    "# Lock random seed\n",
    "np.random.seed(1)\n",
    "\n",
    "# File path for noise descriptor\n",
    "noise_file = \"../Python/noise_description.json\"\n",
    "\n",
    "# Configuration for training data\n",
    "training_samples = 67\n",
    "training_file = \"../TrainingData/neodata/fault_all_1000.csv\"\n",
    "\n",
    "# Configuration for validation data\n",
    "validation_samples = 67\n",
    "validation_file = \"../ValidationData/neodata/fault_all_1000.csv\"\n",
    "\n",
    "# Features to pop from all data sets\n",
    "features_for_removal = ['Psuc','CprPower','Density']"
   ]
  },
  {
   "cell_type": "markdown",
   "metadata": {},
   "source": [
    "----\n",
    "# Add noise and sample training data"
   ]
  },
  {
   "cell_type": "code",
   "execution_count": 55,
   "metadata": {},
   "outputs": [],
   "source": [
    "# Extract training data\n",
    "# Loop through all files\n",
    "\n",
    "# Lock random seed\n",
    "np.random.seed(1)\n",
    "\n",
    "# Load data and noise description\n",
    "all_data = pd.read_csv(training_file)\n",
    "with open(noise_file) as file: noise_desc = json.load(file)\n",
    "\n",
    "# For each noise descriptor, add noise accordingly\n",
    "for feature in noise_desc:\n",
    "    if noise_desc[feature]['var'] > 0:\n",
    "        all_data[feature] += np.random.normal(noise_desc[feature]['mean'],noise_desc[feature]['var'],(len(all_data)))\n",
    "\n",
    "for feature in features_for_removal:\n",
    "    all_data.pop(feature)\n",
    "\n",
    "# Sample noisy data and concatenate it\n",
    "for_export = pd.concat( [all_data[all_data['target'] == i].sample(training_samples) for i in range(21)] )\n",
    "\n",
    "# Export data\n",
    "try:\n",
    "    for_export.to_csv(f\"./../TrainingData/neodata/fault_all_noise_{training_samples}.csv\", index=None,header=True)\n",
    "except OSError:\n",
    "    os.mkdir(f\"./../TrainingData/neodata/\")\n",
    "    for_export.to_csv(f\"./../TrainingData/neodata/fault_all_noise_{training_samples}.csv\", index=None,header=True)"
   ]
  },
  {
   "cell_type": "markdown",
   "metadata": {},
   "source": [
    "----\n",
    "# Add noise and sample validation data"
   ]
  },
  {
   "cell_type": "code",
   "execution_count": 56,
   "metadata": {},
   "outputs": [],
   "source": [
    "# Extract training data\n",
    "# Loop through all files\n",
    "\n",
    "# Lock random seed\n",
    "np.random.seed(1)\n",
    "\n",
    "# Load data and noise description\n",
    "all_data = pd.read_csv(validation_file)\n",
    "with open(noise_file) as file: noise_desc = json.load(file)\n",
    "\n",
    "# For each noise descriptor, add noise accordingly\n",
    "for feature in noise_desc:\n",
    "    if noise_desc[feature]['var'] > 0:\n",
    "        all_data[feature] += np.random.normal(noise_desc[feature]['mean'],noise_desc[feature]['var'],(len(all_data)))\n",
    "\n",
    "for feature in features_for_removal:\n",
    "    all_data.pop(feature)\n",
    "\n",
    "# Sample noisy data and concatenate it\n",
    "for_export = pd.concat( [all_data[all_data['target'] == i].sample(training_samples) for i in range(21)] )\n",
    "\n",
    "# Export data\n",
    "try:\n",
    "    for_export.to_csv(f\"./../ValidationData/neodata/fault_all_noise_{training_samples}.csv\", index=None,header=True)\n",
    "except OSError:\n",
    "    os.mkdir(f\"./../ValidationData/neodata/\")\n",
    "    for_export.to_csv(f\"./../ValidationData/neodata/fault_all_noise_{training_samples}.csv\", index=None,header=True)"
   ]
  }
 ],
 "metadata": {
  "kernelspec": {
   "display_name": "Python 3.10.7 64-bit",
   "language": "python",
   "name": "python3"
  },
  "language_info": {
   "codemirror_mode": {
    "name": "ipython",
    "version": 3
   },
   "file_extension": ".py",
   "mimetype": "text/x-python",
   "name": "python",
   "nbconvert_exporter": "python",
   "pygments_lexer": "ipython3",
   "version": "3.10.7"
  },
  "orig_nbformat": 4,
  "vscode": {
   "interpreter": {
    "hash": "e7370f93d1d0cde622a1f8e1c04877d8463912d04d973331ad4851f04de6915a"
   }
  }
 },
 "nbformat": 4,
 "nbformat_minor": 2
}

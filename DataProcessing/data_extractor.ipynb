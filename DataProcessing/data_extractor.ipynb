{
 "cells": [
  {
   "cell_type": "code",
   "execution_count": 7,
   "metadata": {},
   "outputs": [],
   "source": [
    "from io import StringIO\n",
    "import pandas as pd\n",
    "import os\n",
    "import numpy as np"
   ]
  },
  {
   "cell_type": "code",
   "execution_count": 8,
   "metadata": {},
   "outputs": [],
   "source": [
    "# How many training samples to extract from each run\n",
    "# This extracts from end end of each sample sessions\n",
    "\n",
    "training_samples = 67               # 1200 sampels /18 setpoints = 67\n",
    "validation_samples = 67\n",
    "steadyState_samples = 1000          #How many time slices is in steady state. It is veryfied that 1000 is SS for fault 9"
   ]
  },
  {
   "cell_type": "code",
   "execution_count": 9,
   "metadata": {},
   "outputs": [],
   "source": [
    "#Making the right dimension noise matrix\n",
    "noise = np.random.normal(0,1,(training_samples,5))      #Generating noise for the five sensors with noise\n",
    "noise = np.insert(noise,(0,0,0,3,4,5,5),0,axis=1)       #Insert zero collum at places where no noise should be added."
   ]
  },
  {
   "cell_type": "markdown",
   "metadata": {},
   "source": [
    "----\n",
    "# Extracting training data"
   ]
  },
  {
   "cell_type": "code",
   "execution_count": 10,
   "metadata": {},
   "outputs": [
    {
     "name": "stdout",
     "output_type": "stream",
     "text": [
      "Found 18 sets in file number 0 of lengths : [6001, 6001, 6001, 6001, 6001, 6001, 6001, 6001, 6001, 6001, 6001, 6001, 6001, 6001, 6001, 6001, 6001, 6001]\n",
      "Found 18 sets in file number 1 of lengths : [6001, 6001, 6001, 6001, 6001, 6001, 6001, 6001, 6001, 6001, 6001, 6001, 6001, 6001, 6001, 6001, 6001, 6001]\n",
      "Found 18 sets in file number 2 of lengths : [6001, 6001, 6001, 6001, 6001, 6001, 6001, 6001, 6001, 6001, 6001, 6001, 6001, 6001, 6001, 6001, 6001, 6001]\n",
      "Found 18 sets in file number 3 of lengths : [6001, 6001, 6001, 6001, 6001, 6001, 6001, 6001, 6001, 6001, 6001, 6001, 6001, 6001, 6001, 6001, 6001, 6001]\n",
      "Found 18 sets in file number 4 of lengths : [6001, 6001, 6001, 6001, 6001, 6001, 6001, 6001, 6001, 6001, 6001, 6001, 6001, 6001, 6001, 6001, 6001, 6001]\n",
      "Found 18 sets in file number 5 of lengths : [6001, 6001, 6001, 6001, 6001, 6001, 6001, 6001, 6001, 6001, 6001, 6001, 6001, 6001, 6001, 6001, 6001, 6001]\n",
      "Found 18 sets in file number 6 of lengths : [6001, 6001, 6001, 6001, 6001, 6001, 6001, 6001, 6001, 6001, 6001, 6001, 6001, 6001, 6001, 6001, 6001, 6001]\n",
      "Found 18 sets in file number 7 of lengths : [6001, 6001, 6001, 6001, 6001, 6001, 6001, 6001, 6001, 6001, 6001, 6001, 6001, 6001, 6001, 6001, 6001, 6001]\n",
      "Found 18 sets in file number 8 of lengths : [6001, 6001, 6001, 6001, 6001, 6001, 6001, 6001, 6001, 6001, 6001, 6001, 6001, 6001, 6001, 6001, 6001, 6001]\n",
      "Found 18 sets in file number 9 of lengths : [6001, 6001, 6001, 6001, 6001, 6001, 6001, 6001, 6001, 6001, 6001, 1239, 6001, 6001, 1239, 6001, 6001, 1239]\n",
      "Found 18 sets in file number 10 of lengths : [6001, 6001, 6001, 6001, 6001, 6001, 6001, 6001, 6001, 6001, 6001, 6001, 6001, 6001, 6001, 6001, 6001, 6001]\n",
      "Found 18 sets in file number 11 of lengths : [6001, 6001, 6001, 6001, 6001, 6001, 6001, 6001, 6001, 6001, 6001, 6001, 6001, 6001, 6001, 6001, 6001, 6001]\n",
      "Found 18 sets in file number 12 of lengths : [6001, 6001, 6001, 6001, 6001, 6001, 6001, 6001, 6001, 6001, 6001, 6001, 6001, 6001, 6001, 6001, 6001, 6001]\n",
      "Found 18 sets in file number 13 of lengths : [6001, 6001, 6001, 6001, 6001, 6001, 6001, 6001, 6001, 6001, 6001, 6001, 6001, 6001, 6001, 6001, 6001, 6001]\n",
      "Found 18 sets in file number 14 of lengths : [6001, 6001, 6001, 6001, 6001, 6001, 6001, 6001, 6001, 6001, 6001, 6001, 6001, 6001, 6001, 6001, 6001, 6001]\n",
      "Found 18 sets in file number 15 of lengths : [6001, 6001, 6001, 6001, 6001, 6001, 6001, 6001, 6001, 6001, 6001, 6001, 6001, 6001, 6001, 6001, 6001, 6001]\n",
      "Found 18 sets in file number 16 of lengths : [6001, 6001, 6001, 6001, 6001, 6001, 6001, 6001, 6001, 6001, 6001, 6001, 6001, 6001, 6001, 6001, 6001, 6001]\n",
      "Found 18 sets in file number 17 of lengths : [6001, 6001, 6001, 6001, 6001, 6001, 6001, 6001, 6001, 6001, 6001, 6001, 6001, 6001, 6001, 6001, 6001, 6001]\n",
      "Found 18 sets in file number 18 of lengths : [6001, 6001, 6001, 6001, 6001, 6001, 6001, 6001, 6001, 6001, 6001, 6001, 6001, 6001, 6001, 6001, 6001, 6001]\n",
      "Found 18 sets in file number 19 of lengths : [6001, 6001, 6001, 6001, 6001, 6001, 6001, 6001, 6001, 6001, 6001, 6001, 6001, 6001, 6001, 6001, 6001, 6001]\n",
      "Found 18 sets in file number 20 of lengths : [6001, 6001, 6001, 6001, 6001, 6001, 6001, 6001, 6001, 6001, 6001, 6001, 6001, 6001, 6001, 6001, 6001, 6001]\n"
     ]
    }
   ],
   "source": [
    "# Extract training data\n",
    "# Loop through all files\n",
    "\n",
    "# Create empty object to concatenate to\n",
    "concat = None\n",
    "for n in range(0,21):            \n",
    "\n",
    "    # Handle special case of non-faulty data\n",
    "    if n == 0:\n",
    "        file_name = \"../TrainingData/Ntrain1.csv\"\n",
    "    else:\n",
    "        file_name = f\"../TrainingData/Ftrain{n}.csv\"\n",
    "    f = open(file_name)\n",
    "    read_str = \"\"\n",
    "    \n",
    "    # Read into string buffer and throw away excess labels\n",
    "    label_cnt = 1\n",
    "    labels_str = f.readline()\n",
    "    labels = labels_str.replace(\"\\n\",'').split(',')\n",
    "    \n",
    "    while line:=f.readline():\n",
    "        read_str += line\n",
    "        \n",
    "    splits = read_str.split(labels_str)\n",
    "    lengths = [len(section.split(\"\\n\")) for section in splits]\n",
    "\n",
    "    print(f\"Found {len(splits)} sets in file number {n} of lengths : {lengths}\")\n",
    "    \n",
    "    # Iterate through each split and concatenate last part\n",
    "    csv = None\n",
    "    for section in splits:\n",
    "        sec  = pd.read_csv(StringIO(labels_str + section)).assign(target=n)\n",
    "        sec = sec[len(sec)-steadyState_samples:len(sec)]                        #Chose the steady state area (repetative behavior)\n",
    "        sec = sec.sample(training_samples)                                      #Take a sample    \n",
    "        sec = sec.drop(['Psuc','CprPower','Density'], axis=1)                   #Drop features\n",
    "        #sec = sec + noise                                                      #Add noise\n",
    "        csv = pd.concat([csv,sec])\n",
    "        \n",
    "    # Concatenate for all numbers\n",
    "    concat = pd.concat([concat , csv])\n",
    "\n",
    "try:\n",
    "    concat.to_csv(f\"./../TrainingData/neodata/fault_all_dropFeatures_{training_samples}.csv\", index=None,header=True)\n",
    "except OSError:\n",
    "    os.mkdir(f\"./../TrainingData/neodata/\")\n",
    "    concat.to_csv(f\"./../TrainingData/neodata/fault_all_dropFeatures_{training_samples}.csv\", index=None,header=True)"
   ]
  },
  {
   "cell_type": "code",
   "execution_count": 13,
   "metadata": {},
   "outputs": [],
   "source": [
    "#Making the right dimension noise matrix\n",
    "noise = np.random.normal(0,1,(validation_samples,5))      #Generating noise for the five sensors with noise\n",
    "noise = np.insert(noise,(0,0,0,3,4,5,5),0,axis=1)       #Insert zero collum at places where no noise should be added.\n"
   ]
  },
  {
   "cell_type": "code",
   "execution_count": 14,
   "metadata": {},
   "outputs": [
    {
     "name": "stdout",
     "output_type": "stream",
     "text": [
      "Found 1 sets in file number 0 of lengths : [6001]\n",
      "Found 1 sets in file number 1 of lengths : [10001]\n",
      "Found 1 sets in file number 2 of lengths : [10001]\n",
      "Found 1 sets in file number 3 of lengths : [10001]\n",
      "Found 1 sets in file number 4 of lengths : [10001]\n",
      "Found 1 sets in file number 5 of lengths : [10001]\n",
      "Found 1 sets in file number 6 of lengths : [10001]\n",
      "Found 1 sets in file number 7 of lengths : [10001]\n",
      "Found 1 sets in file number 8 of lengths : [10001]\n",
      "Found 1 sets in file number 9 of lengths : [10001]\n",
      "Found 1 sets in file number 10 of lengths : [10001]\n",
      "Found 1 sets in file number 11 of lengths : [10001]\n",
      "Found 1 sets in file number 12 of lengths : [10001]\n",
      "Found 1 sets in file number 13 of lengths : [10001]\n",
      "Found 1 sets in file number 14 of lengths : [10001]\n",
      "Found 1 sets in file number 15 of lengths : [10001]\n",
      "Found 1 sets in file number 16 of lengths : [10001]\n",
      "Found 1 sets in file number 17 of lengths : [10001]\n",
      "Found 1 sets in file number 18 of lengths : [10001]\n",
      "Found 1 sets in file number 19 of lengths : [10001]\n",
      "Found 1 sets in file number 20 of lengths : [10001]\n"
     ]
    }
   ],
   "source": [
    "\n",
    "# Extract validation data\n",
    "# Loop through all files\n",
    "\n",
    "# Create empty object to concatenate to\n",
    "concat = None\n",
    "for n in range(0,21):\n",
    "\n",
    "    # Handle special case of non-faulty data\n",
    "    if n == 0:\n",
    "        file_name = \"../ValidationData/NewValid_n1.csv\"\n",
    "    else:\n",
    "        file_name = f\"../ValidationData/NewValid_f{n}.csv\"\n",
    "    f = open(file_name)\n",
    "    read_str = \"\"\n",
    "    \n",
    "    # Read into string buffer and throw away excess labels\n",
    "    label_cnt = 1\n",
    "    labels_str = f.readline()\n",
    "    labels = labels_str.replace(\"\\n\",'').split(',')\n",
    "    \n",
    "    while line:=f.readline():\n",
    "        read_str += line\n",
    "        \n",
    "    splits = read_str.split(labels_str)\n",
    "    lengths = [len(section.split(\"\\n\")) for section in splits]\n",
    "\n",
    "    print(f\"Found {len(splits)} sets in file number {n} of lengths : {lengths}\")\n",
    "    \n",
    "    # Iterate through each split and concatenate last part\n",
    "    csv = None\n",
    "    for section in splits:\n",
    "        sec  = pd.read_csv(StringIO(labels_str + section)).assign(target=n)\n",
    "        sec = sec[len(sec)-validation_samples:len(sec)]                        #Chose the steady state area (repetative behavior)\n",
    "        sec = sec.sample(validation_samples)                                      #Take a sample    \n",
    "        sec = sec.drop(['Psuc','CprPower','Density'], axis=1)                   #Drop features\n",
    "        #sec = sec + noise  \n",
    "        csv = pd.concat([csv,sec])\n",
    "        \n",
    "    # Concatenate for all numbers\n",
    "    concat = pd.concat([concat , csv])\n",
    "\n",
    "try:\n",
    "    concat.to_csv(f\"./../ValidationData/neodata/fault_all_dropfeatures_{validation_samples}.csv\", index=None,header=True)\n",
    "except OSError:\n",
    "    os.mkdir(f\"./../ValidationData/neodata/\")\n",
    "    concat.to_csv(f\"./../ValidationData/neodata/fault_all_dropfeatures_{validation_samples}.csv\", index=None,header=True)"
   ]
  }
 ],
 "metadata": {
  "kernelspec": {
   "display_name": "Python 3.10.1 64-bit",
   "language": "python",
   "name": "python3"
  },
  "language_info": {
   "codemirror_mode": {
    "name": "ipython",
    "version": 3
   },
   "file_extension": ".py",
   "mimetype": "text/x-python",
   "name": "python",
   "nbconvert_exporter": "python",
   "pygments_lexer": "ipython3",
   "version": "3.10.1"
  },
  "orig_nbformat": 4,
  "vscode": {
   "interpreter": {
    "hash": "e3f2a733c2768fd0b48f567c9c49c153ac06dfa727864d4e3c9ae02200777f8b"
   }
  }
 },
 "nbformat": 4,
 "nbformat_minor": 2
}

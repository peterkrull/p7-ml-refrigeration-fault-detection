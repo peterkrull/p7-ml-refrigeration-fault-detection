{
 "cells": [
  {
   "cell_type": "code",
   "execution_count": 3,
   "metadata": {},
   "outputs": [],
   "source": [
    "import pandas as pd\n",
    "import os"
   ]
  },
  {
   "cell_type": "code",
   "execution_count": 9,
   "metadata": {},
   "outputs": [],
   "source": [
    "# How many training samples to extract from each run\n",
    "# This extracts from end end of each sample sessions\n",
    "training_samples = 2000\n",
    "validation_samples = 100"
   ]
  },
  {
   "cell_type": "markdown",
   "metadata": {},
   "source": [
    "----\n",
    "# Extracting training data"
   ]
  },
  {
   "cell_type": "code",
   "execution_count": 10,
   "metadata": {},
   "outputs": [],
   "source": [
    "# Extract training data\n",
    "# Loop through all files\n",
    "n_entries = 6001\n",
    "\n",
    "# Create empty object to concatenate to\n",
    "concat = None\n",
    "for n in range(0,21):\n",
    "    if os.name == \"posix\": # For linux / mac\n",
    "\n",
    "        # Handle special case of non-faulty data\n",
    "        if n == 0:\n",
    "            file_name = \"TrainingData/Ntrain1.csv\"\n",
    "        else:\n",
    "            file_name = f\"TrainingData/Ftrain{n}.csv\"\n",
    "        csv = pd.read_csv(file_name).assign(target=n)\n",
    "    elif os.name == \"nt\": # For windows\n",
    "        csv = read_csv(f\"TrainingData\\Ftrain{n}.csv\")\n",
    "\n",
    "    # Loop through each concatenated entry\n",
    "    for i in range(int(round((len(csv)+1)/6001,2))):\n",
    "        \n",
    "        # Range to extract samples from\n",
    "        ran = [6000 - training_samples + i*n_entries , 6000 + i*n_entries]\n",
    "        concat = pd.concat([concat , csv[ran[0]:ran[1]]])\n",
    "\n",
    "try:\n",
    "    concat.to_csv(f\"./TrainingData/neodata/fault_all_{training_samples}.csv\", index=None,header=True)\n",
    "except OSError:\n",
    "    os.mkdir(f\"./TrainingData/neodata/\")\n",
    "    concat.to_csv(f\"./TrainingData/neodata/{training_samples}.csv\", index=None,header=True)"
   ]
  },
  {
   "cell_type": "code",
   "execution_count": null,
   "metadata": {},
   "outputs": [],
   "source": [
    "# Extract validation data\n",
    "# Loop through all files\n",
    "# Create empty object to concatenate to\n",
    "concat = None\n",
    "for n in range(0,21):\n",
    "    if os.name == \"posix\": # For linux / mac\n",
    "\n",
    "        # Handle special case of non-faulty data\n",
    "        if n == 0:\n",
    "            file_name = \"ValidationData/NewValid_n1.csv\"\n",
    "        else:\n",
    "            file_name = f\"ValidationData/NewValid_f{n}.csv\"\n",
    "        csv = pd.read_csv(file_name)\n",
    "    elif os.name == \"nt\": # For windows\n",
    "        csv = read_csv(f\"TrainingData\\Ftrain{n}.csv\")\n",
    "\n",
    "    # Range to extract samples from\n",
    "    ran = [10000 - validation_samples , 10000] if n != 0 else [6000 - validation_samples , 6000]\n",
    "\n",
    "    concat = pd.concat([concat , csv[ran[0]:ran[1]]])\n",
    "\n",
    "try:\n",
    "    concat.to_csv(f\"./ValidationData/seperate/collected.csv\", index=None,header=None)\n",
    "except OSError:\n",
    "    os.mkdir(f\"./ValidationData/seperate/\")\n",
    "    concat.to_csv(f\"./ValidationData/seperate/collected.csv\", index=None,header=None)"
   ]
  }
 ],
 "metadata": {
  "kernelspec": {
   "display_name": "Python 3.11.0rc2 64-bit",
   "language": "python",
   "name": "python3"
  },
  "language_info": {
   "codemirror_mode": {
    "name": "ipython",
    "version": 3
   },
   "file_extension": ".py",
   "mimetype": "text/x-python",
   "name": "python",
   "nbconvert_exporter": "python",
   "pygments_lexer": "ipython3",
   "version": "3.11.0rc2"
  },
  "orig_nbformat": 4,
  "vscode": {
   "interpreter": {
    "hash": "e7370f93d1d0cde622a1f8e1c04877d8463912d04d973331ad4851f04de6915a"
   }
  }
 },
 "nbformat": 4,
 "nbformat_minor": 2
}

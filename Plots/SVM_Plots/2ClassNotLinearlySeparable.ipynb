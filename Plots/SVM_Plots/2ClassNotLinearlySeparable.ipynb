{
 "cells": [
  {
   "cell_type": "markdown",
   "metadata": {},
   "source": [
    "# Graph stuff"
   ]
  },
  {
   "cell_type": "code",
   "execution_count": 1,
   "metadata": {},
   "outputs": [
    {
     "data": {
      "image/png": "[encoded data removed]",
      "text/plain": [
       "<Figure size 600x20 with 1 Axes>"
      ]
     },
     "metadata": {},
     "output_type": "display_data"
    }
   ],
   "source": [
    "import matplotlib.pyplot as plt\n",
    "import numpy as np\n",
    "\n",
    "\n",
    "plt.rcParams.update({\n",
    "     \"text.usetex\": True,\n",
    "     \"font.family\": \"cmr\"\n",
    " })\n",
    "\n",
    "# p1 = [4.2,4.5,5,5.3,6]\n",
    "# p2 = [1.3,1.7,2,3,7,7.2,8,8.5]\n",
    "\n",
    "\n",
    "p1 = [-3,-1.8,0, 1.5, 2, 2.5]\n",
    "p2= [-6,-5,-4,-3.4, 3.4, 3.9, 4.5, 5]\n",
    "\n",
    "# # set up the figure\n",
    "fig = plt.figure(1,figsize=(6,0.2))\n",
    "ax = fig.add_subplot(111)\n",
    "\n",
    "\n",
    "# draw lines\n",
    "xmin = min(p2)-0.5\n",
    "xmax = -min(p2)+0.5\n",
    "Y1=np.zeros(len(p1))\n",
    "Y2=np.zeros(len(p2))\n",
    "plt.hlines(0, xmin, xmax, 'k')\n",
    "\n",
    "\n",
    "# draw a point on the line\n",
    "plt.plot(p1,Y1, 'o')\n",
    "plt.plot(p2,Y2, 'o')\n",
    "plt.vlines(xmin, -3, 3, 'k')\n",
    "plt.vlines(xmax, -3, 3, 'k')\n",
    "\n",
    "# add labels\n",
    "for i in range(0, len(p1)):\n",
    "    plt.text(p1[i], Y1[i]-5, str(p1[i]), horizontalalignment='center', verticalalignment='top', fontsize = 'small')\n",
    "\n",
    "# for i in range(0, len(p2)):\n",
    "#     if (i % 2) == 0: \n",
    "#         verticalalignment='top'\n",
    "#         Y=Y2[i]-2/1000\n",
    "#     else:\n",
    "#         verticalalignment='bottom'\n",
    "#         Y=Y2[i]+2/1000\n",
    "#     plt.text(p2[i], Y, str(p2[i]), horizontalalignment='center', verticalalignment=verticalalignment, fontsize = 'xx-small')\n",
    "for i in range(0, len(p2)):\n",
    "    plt.text(p2[i], Y2[i]+5, str(p2[i]), horizontalalignment='center', verticalalignment='bottom', fontsize = 'small')\n",
    "plt.axis('off')\n",
    "#plt.show()\n",
    "\n",
    "ax.set_xlim(-7,7)\n",
    "ax.set_ylim(-5,5)\n",
    "\n",
    "plt.savefig('before_kernel.pdf',bbox_inches=\"tight\")"
   ]
  },
  {
   "cell_type": "code",
   "execution_count": 27,
   "metadata": {},
   "outputs": [
    {
     "name": "stdout",
     "output_type": "stream",
     "text": [
      "[<matplotlib.collections.PathCollection object at 0x12a326d40>, <matplotlib.collections.PathCollection object at 0x12a327190>, <matplotlib.lines.Line2D object at 0x12a327a30>, <matplotlib.lines.Line2D object at 0x12a327cd0>]\n",
      "['Class 1 1-D', 'Class 2 1-D', 'Class 1 2-D', 'Class 2 2-D']\n"
     ]
    },
    {
     "data": {
      "image/png": "[encoded data removed]",
      "text/plain": [
       "<Figure size 640x480 with 1 Axes>"
      ]
     },
     "metadata": {},
     "output_type": "display_data"
    }
   ],
   "source": [
    "p1 = [-3,-1.8,0, 1.5, 2, 2.5] # optional\n",
    "p2= [-6,-5,-4,-3.4, 3.4, 3.9, 4.5, 5] # optional\n",
    "\n",
    "# set up the figure\n",
    "fig = plt.figure(2)\n",
    "ax = fig.add_subplot(111)\n",
    "\n",
    "#plt.scatter(p2, np.zeros(len(p2)), marker='o', color='#2d94db', zorder = 8,label='Class 1 1-D')\n",
    "#plt.scatter(p1, np.zeros(len(p1)), marker='o', color='#ffa351', zorder = 8,label='Class 2 1-D')\n",
    "\n",
    "plt.scatter(p2, np.zeros(len(p2)), marker='x', color='C0', zorder = 8,label='Class 1 1-D')\n",
    "plt.scatter(p1, np.zeros(len(p1)), marker='x', color='C1', zorder = 8,label='Class 2 1-D')\n",
    "\n",
    "p1y=np.power(np.array(p1),2)*np.ones(len(p1))\n",
    "p2y=np.power(np.array(p2),2)*np.ones(len(p2))\n",
    "plt.axhline(y = 0, color = 'k', linewidth=0.7)\n",
    "\n",
    "#remove p1=0\n",
    "index_0=p1.index(0)\n",
    "p1.pop(index_0)\n",
    "p1y=p1y.tolist()\n",
    "p1y.pop(index_0)\n",
    "\n",
    "plt.plot(p2,p2y,'C0o',label=\"Class 1 2-D\", zorder = 8)\n",
    "plt.plot(p1,p1y,'C1o',label=\"Class 2 2-D\", zorder = 8)\n",
    "\n",
    "for i in range(0, len(p1)):\n",
    "    plt.vlines(x = p1[i], ymin = 0, ymax = p1y[i], colors = '#ffa351', linestyle='--')\n",
    "\n",
    "for i in range(0, len(p2)):\n",
    "    plt.vlines(x = p2[i], ymin = 0, ymax = p2y[i], colors = '#2d94db', linestyle='--')\n",
    "plt.vlines(x = p2[i], ymin = 0, ymax = p2y[i], colors = 'C0', linestyle='--')\n",
    "plt.axhline(y = 10, color = 'k')\n",
    "handles, labels = plt.gca().get_legend_handles_labels()\n",
    "print(handles)\n",
    "print(labels)\n",
    "\n",
    "order = [2, 3, 0, 1]\n",
    "plt.legend([handles[idx] for idx in order],[labels[idx] for idx in order], loc='upper right')\n",
    "#plt.legend(loc='upper right')\n",
    "plt.savefig('2ClassNotLinearlySeparable.pdf',bbox_inches=\"tight\")\n"
   ]
  }
 ],
 "metadata": {
  "kernelspec": {
   "display_name": "Python 3.10.6 64-bit",
   "language": "python",
   "name": "python3"
  },
  "language_info": {
   "codemirror_mode": {
    "name": "ipython",
    "version": 3
   },
   "file_extension": ".py",
   "mimetype": "text/x-python",
   "name": "python",
   "nbconvert_exporter": "python",
   "pygments_lexer": "ipython3",
   "version": "3.10.6"
  },
  "orig_nbformat": 4,
  "vscode": {
   "interpreter": {
    "hash": "7e1998ff7f8aa20ada591c520b972326324e5ea05489af9e422744c7c09f6dad"
   }
  }
 },
 "nbformat": 4,
 "nbformat_minor": 2
}

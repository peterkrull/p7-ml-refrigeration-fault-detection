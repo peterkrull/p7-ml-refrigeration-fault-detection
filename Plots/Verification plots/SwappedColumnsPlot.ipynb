{
 "cells": [
  {
   "cell_type": "markdown",
   "metadata": {},
   "source": [
    "## Plot showing T_amb and T_set when columns is swapped"
   ]
  },
  {
   "cell_type": "code",
   "execution_count": 29,
   "metadata": {},
   "outputs": [],
   "source": [
    "\n",
    "import matplotlib.pyplot as plt\n",
    "plt.rcParams.update({\n",
    "    \"text.usetex\": True,\n",
    "    \"font.family\": \"cmr\"\n",
    "})"
   ]
  },
  {
   "cell_type": "code",
   "execution_count": 105,
   "metadata": {},
   "outputs": [],
   "source": [
    "T_set = [0,0,0,7,7,7,12,12,12]\n",
    "T_amb = [10,20,30,10,20,30,10,20,30]\n",
    "\n",
    "plt.figure(figsize=(4, 4))\n",
    "fig ,ax = plt.plot(T_amb,T_set,'.',T_set,T_amb,'.',markersize=12)\n",
    "plt.legend([\"Faulty\",\"Non faulty\"])\n",
    "\n",
    "ax.axes.text(16,-6,'$\\mathbf{T_{amb}[^\\circ C]}$',color='tab:blue')\n",
    "ax.axes.text(24,-6,'$\\mathbf{T_{set}[^\\circ C]}$',color='tab:orange')\n",
    "ax.axes.text(-6,17,'$\\mathbf{T_{set}[^\\circ C]}$',color='tab:blue',rotation='vertical')\n",
    "ax.axes.text(-6,24,'$\\mathbf{T_{amb}[^\\circ C]}$',color='tab:orange',rotation='vertical')\n",
    "\n",
    "plt.savefig('SwappedColumns.pdf',bbox_inches=\"tight\")"
   ]
  }
 ],
 "metadata": {
  "kernelspec": {
   "display_name": "Python 3.10.1 64-bit",
   "language": "python",
   "name": "python3"
  },
  "language_info": {
   "codemirror_mode": {
    "name": "ipython",
    "version": 3
   },
   "file_extension": ".py",
   "mimetype": "text/x-python",
   "name": "python",
   "nbconvert_exporter": "python",
   "pygments_lexer": "ipython3",
   "version": "3.10.1"
  },
  "orig_nbformat": 4,
  "vscode": {
   "interpreter": {
    "hash": "e3f2a733c2768fd0b48f567c9c49c153ac06dfa727864d4e3c9ae02200777f8b"
   }
  }
 },
 "nbformat": 4,
 "nbformat_minor": 2
}
